{
 "cells": [
  {
   "cell_type": "markdown",
   "metadata": {
    "colab_type": "text",
    "id": "nLfRZp4P6C-o"
   },
   "source": [
    "### Hubble Telescope Problem"
   ]
  },
  {
   "cell_type": "code",
   "execution_count": 1,
   "metadata": {
    "colab": {
     "autoexec": {
      "startup": false,
      "wait_interval": 0
     }
    },
    "colab_type": "code",
    "id": "zguBUoxg6C-q"
   },
   "outputs": [],
   "source": [
    "import numpy as np\n",
    "import pandas as pd\n",
    "import matplotlib.pyplot as plt\n",
    "import seaborn"
   ]
  },
  {
   "cell_type": "code",
   "execution_count": 4,
   "metadata": {
    "colab": {
     "autoexec": {
      "startup": false,
      "wait_interval": 0
     }
    },
    "colab_type": "code",
    "id": "nz3zz7Iu6C-t"
   },
   "outputs": [
    {
     "data": {
      "text/html": [
       "<div>\n",
       "<style scoped>\n",
       "    .dataframe tbody tr th:only-of-type {\n",
       "        vertical-align: middle;\n",
       "    }\n",
       "\n",
       "    .dataframe tbody tr th {\n",
       "        vertical-align: top;\n",
       "    }\n",
       "\n",
       "    .dataframe thead th {\n",
       "        text-align: right;\n",
       "    }\n",
       "</style>\n",
       "<table border=\"1\" class=\"dataframe\">\n",
       "  <thead>\n",
       "    <tr style=\"text-align: right;\">\n",
       "      <th></th>\n",
       "      <th>distance</th>\n",
       "      <th>recession_velocity</th>\n",
       "    </tr>\n",
       "  </thead>\n",
       "  <tbody>\n",
       "    <tr>\n",
       "      <th>0</th>\n",
       "      <td>0.032</td>\n",
       "      <td>170</td>\n",
       "    </tr>\n",
       "    <tr>\n",
       "      <th>1</th>\n",
       "      <td>0.034</td>\n",
       "      <td>290</td>\n",
       "    </tr>\n",
       "    <tr>\n",
       "      <th>2</th>\n",
       "      <td>0.214</td>\n",
       "      <td>-130</td>\n",
       "    </tr>\n",
       "    <tr>\n",
       "      <th>3</th>\n",
       "      <td>0.263</td>\n",
       "      <td>-70</td>\n",
       "    </tr>\n",
       "    <tr>\n",
       "      <th>4</th>\n",
       "      <td>0.275</td>\n",
       "      <td>-185</td>\n",
       "    </tr>\n",
       "    <tr>\n",
       "      <th>5</th>\n",
       "      <td>0.275</td>\n",
       "      <td>-220</td>\n",
       "    </tr>\n",
       "    <tr>\n",
       "      <th>6</th>\n",
       "      <td>0.450</td>\n",
       "      <td>200</td>\n",
       "    </tr>\n",
       "    <tr>\n",
       "      <th>7</th>\n",
       "      <td>0.500</td>\n",
       "      <td>290</td>\n",
       "    </tr>\n",
       "    <tr>\n",
       "      <th>8</th>\n",
       "      <td>0.500</td>\n",
       "      <td>270</td>\n",
       "    </tr>\n",
       "    <tr>\n",
       "      <th>9</th>\n",
       "      <td>0.630</td>\n",
       "      <td>200</td>\n",
       "    </tr>\n",
       "    <tr>\n",
       "      <th>10</th>\n",
       "      <td>0.800</td>\n",
       "      <td>300</td>\n",
       "    </tr>\n",
       "    <tr>\n",
       "      <th>11</th>\n",
       "      <td>0.900</td>\n",
       "      <td>-30</td>\n",
       "    </tr>\n",
       "    <tr>\n",
       "      <th>12</th>\n",
       "      <td>0.900</td>\n",
       "      <td>650</td>\n",
       "    </tr>\n",
       "    <tr>\n",
       "      <th>13</th>\n",
       "      <td>0.900</td>\n",
       "      <td>150</td>\n",
       "    </tr>\n",
       "    <tr>\n",
       "      <th>14</th>\n",
       "      <td>0.900</td>\n",
       "      <td>500</td>\n",
       "    </tr>\n",
       "    <tr>\n",
       "      <th>15</th>\n",
       "      <td>1.000</td>\n",
       "      <td>920</td>\n",
       "    </tr>\n",
       "    <tr>\n",
       "      <th>16</th>\n",
       "      <td>1.100</td>\n",
       "      <td>450</td>\n",
       "    </tr>\n",
       "    <tr>\n",
       "      <th>17</th>\n",
       "      <td>1.100</td>\n",
       "      <td>500</td>\n",
       "    </tr>\n",
       "    <tr>\n",
       "      <th>18</th>\n",
       "      <td>1.400</td>\n",
       "      <td>500</td>\n",
       "    </tr>\n",
       "    <tr>\n",
       "      <th>19</th>\n",
       "      <td>1.700</td>\n",
       "      <td>960</td>\n",
       "    </tr>\n",
       "    <tr>\n",
       "      <th>20</th>\n",
       "      <td>2.000</td>\n",
       "      <td>500</td>\n",
       "    </tr>\n",
       "    <tr>\n",
       "      <th>21</th>\n",
       "      <td>2.000</td>\n",
       "      <td>850</td>\n",
       "    </tr>\n",
       "    <tr>\n",
       "      <th>22</th>\n",
       "      <td>2.000</td>\n",
       "      <td>800</td>\n",
       "    </tr>\n",
       "    <tr>\n",
       "      <th>23</th>\n",
       "      <td>2.000</td>\n",
       "      <td>1090</td>\n",
       "    </tr>\n",
       "  </tbody>\n",
       "</table>\n",
       "</div>"
      ],
      "text/plain": [
       "    distance  recession_velocity\n",
       "0      0.032                 170\n",
       "1      0.034                 290\n",
       "2      0.214                -130\n",
       "3      0.263                 -70\n",
       "4      0.275                -185\n",
       "5      0.275                -220\n",
       "6      0.450                 200\n",
       "7      0.500                 290\n",
       "8      0.500                 270\n",
       "9      0.630                 200\n",
       "10     0.800                 300\n",
       "11     0.900                 -30\n",
       "12     0.900                 650\n",
       "13     0.900                 150\n",
       "14     0.900                 500\n",
       "15     1.000                 920\n",
       "16     1.100                 450\n",
       "17     1.100                 500\n",
       "18     1.400                 500\n",
       "19     1.700                 960\n",
       "20     2.000                 500\n",
       "21     2.000                 850\n",
       "22     2.000                 800\n",
       "23     2.000                1090"
      ]
     },
     "execution_count": 4,
     "metadata": {},
     "output_type": "execute_result"
    }
   ],
   "source": [
    "hubble_df = pd.read_csv('https://raw.githubusercontent.com/shantnu/Intro-to-Pandas/master/hubble_data.csv')\n",
    "hubble_df"
   ]
  },
  {
   "cell_type": "code",
   "execution_count": 13,
   "metadata": {
    "colab": {
     "autoexec": {
      "startup": false,
      "wait_interval": 0
     },
     "base_uri": "https://localhost:8080/",
     "height": 202,
     "output_extras": [
      {
       "item_id": 1
      }
     ]
    },
    "colab_type": "code",
    "executionInfo": {
     "elapsed": 920,
     "status": "ok",
     "timestamp": 1515925708472,
     "user": {
      "displayName": "Arnab Majumdar",
      "photoUrl": "//lh3.googleusercontent.com/-gUH4TdSB8Wg/AAAAAAAAAAI/AAAAAAAAAAA/MPXW60t-IDo/s50-c-k-no/photo.jpg",
      "userId": "108778055026028251146"
     },
     "user_tz": -330
    },
    "id": "wDfc7BS26C-v",
    "outputId": "457594f1-3e60-4a53-f3de-7bc427fc07c8"
   },
   "outputs": [
    {
     "data": {
      "text/html": [
       "<div>\n",
       "<style scoped>\n",
       "    .dataframe tbody tr th:only-of-type {\n",
       "        vertical-align: middle;\n",
       "    }\n",
       "\n",
       "    .dataframe tbody tr th {\n",
       "        vertical-align: top;\n",
       "    }\n",
       "\n",
       "    .dataframe thead th {\n",
       "        text-align: right;\n",
       "    }\n",
       "</style>\n",
       "<table border=\"1\" class=\"dataframe\">\n",
       "  <thead>\n",
       "    <tr style=\"text-align: right;\">\n",
       "      <th></th>\n",
       "      <th>distance</th>\n",
       "      <th>recession_velocity</th>\n",
       "    </tr>\n",
       "  </thead>\n",
       "  <tbody>\n",
       "    <tr>\n",
       "      <th>0</th>\n",
       "      <td>0.032</td>\n",
       "      <td>170</td>\n",
       "    </tr>\n",
       "    <tr>\n",
       "      <th>1</th>\n",
       "      <td>0.034</td>\n",
       "      <td>290</td>\n",
       "    </tr>\n",
       "    <tr>\n",
       "      <th>2</th>\n",
       "      <td>0.214</td>\n",
       "      <td>-130</td>\n",
       "    </tr>\n",
       "    <tr>\n",
       "      <th>3</th>\n",
       "      <td>0.263</td>\n",
       "      <td>-70</td>\n",
       "    </tr>\n",
       "    <tr>\n",
       "      <th>4</th>\n",
       "      <td>0.275</td>\n",
       "      <td>-185</td>\n",
       "    </tr>\n",
       "  </tbody>\n",
       "</table>\n",
       "</div>"
      ],
      "text/plain": [
       "   distance  recession_velocity\n",
       "0     0.032                 170\n",
       "1     0.034                 290\n",
       "2     0.214                -130\n",
       "3     0.263                 -70\n",
       "4     0.275                -185"
      ]
     },
     "execution_count": 13,
     "metadata": {},
     "output_type": "execute_result"
    }
   ],
   "source": [
    "hubble_df.head()"
   ]
  },
  {
   "cell_type": "code",
   "execution_count": 14,
   "metadata": {
    "colab": {
     "autoexec": {
      "startup": false,
      "wait_interval": 0
     },
     "base_uri": "https://localhost:8080/",
     "height": 69,
     "output_extras": [
      {
       "item_id": 1
      }
     ]
    },
    "colab_type": "code",
    "executionInfo": {
     "elapsed": 882,
     "status": "ok",
     "timestamp": 1515925711229,
     "user": {
      "displayName": "Arnab Majumdar",
      "photoUrl": "//lh3.googleusercontent.com/-gUH4TdSB8Wg/AAAAAAAAAAI/AAAAAAAAAAA/MPXW60t-IDo/s50-c-k-no/photo.jpg",
      "userId": "108778055026028251146"
     },
     "user_tz": -330
    },
    "id": "PY9yladt6C-0",
    "outputId": "4fec8e4e-c3e2-49f8-9407-73beb633737b"
   },
   "outputs": [
    {
     "data": {
      "text/plain": [
       "distance              24\n",
       "recession_velocity    24\n",
       "dtype: int64"
      ]
     },
     "execution_count": 14,
     "metadata": {},
     "output_type": "execute_result"
    }
   ],
   "source": [
    "hubble_df.count()"
   ]
  },
  {
   "cell_type": "code",
   "execution_count": 18,
   "metadata": {
    "colab": {
     "autoexec": {
      "startup": false,
      "wait_interval": 0
     },
     "base_uri": "https://localhost:8080/",
     "height": 784,
     "output_extras": [
      {
       "item_id": 1
      }
     ]
    },
    "colab_type": "code",
    "executionInfo": {
     "elapsed": 889,
     "status": "ok",
     "timestamp": 1515925713173,
     "user": {
      "displayName": "Arnab Majumdar",
      "photoUrl": "//lh3.googleusercontent.com/-gUH4TdSB8Wg/AAAAAAAAAAI/AAAAAAAAAAA/MPXW60t-IDo/s50-c-k-no/photo.jpg",
      "userId": "108778055026028251146"
     },
     "user_tz": -330
    },
    "id": "Xt6pfmbm6C-3",
    "outputId": "bab1d9fc-d941-47f1-8fbf-6f9c8a7fc812"
   },
   "outputs": [
    {
     "data": {
      "text/html": [
       "<div>\n",
       "<style>\n",
       "    .dataframe thead tr:only-child th {\n",
       "        text-align: right;\n",
       "    }\n",
       "\n",
       "    .dataframe thead th {\n",
       "        text-align: left;\n",
       "    }\n",
       "\n",
       "    .dataframe tbody tr th {\n",
       "        vertical-align: top;\n",
       "    }\n",
       "</style>\n",
       "<table border=\"1\" class=\"dataframe\">\n",
       "  <thead>\n",
       "    <tr style=\"text-align: right;\">\n",
       "      <th></th>\n",
       "      <th>distance</th>\n",
       "      <th>recession_velocity</th>\n",
       "    </tr>\n",
       "  </thead>\n",
       "  <tbody>\n",
       "    <tr>\n",
       "      <th>0</th>\n",
       "      <td>0.032</td>\n",
       "      <td>170</td>\n",
       "    </tr>\n",
       "    <tr>\n",
       "      <th>1</th>\n",
       "      <td>0.034</td>\n",
       "      <td>290</td>\n",
       "    </tr>\n",
       "    <tr>\n",
       "      <th>2</th>\n",
       "      <td>0.214</td>\n",
       "      <td>-130</td>\n",
       "    </tr>\n",
       "    <tr>\n",
       "      <th>3</th>\n",
       "      <td>0.263</td>\n",
       "      <td>-70</td>\n",
       "    </tr>\n",
       "    <tr>\n",
       "      <th>4</th>\n",
       "      <td>0.275</td>\n",
       "      <td>-185</td>\n",
       "    </tr>\n",
       "    <tr>\n",
       "      <th>5</th>\n",
       "      <td>0.275</td>\n",
       "      <td>-220</td>\n",
       "    </tr>\n",
       "    <tr>\n",
       "      <th>6</th>\n",
       "      <td>0.450</td>\n",
       "      <td>200</td>\n",
       "    </tr>\n",
       "    <tr>\n",
       "      <th>7</th>\n",
       "      <td>0.500</td>\n",
       "      <td>290</td>\n",
       "    </tr>\n",
       "    <tr>\n",
       "      <th>8</th>\n",
       "      <td>0.500</td>\n",
       "      <td>270</td>\n",
       "    </tr>\n",
       "    <tr>\n",
       "      <th>9</th>\n",
       "      <td>0.630</td>\n",
       "      <td>200</td>\n",
       "    </tr>\n",
       "    <tr>\n",
       "      <th>10</th>\n",
       "      <td>0.800</td>\n",
       "      <td>300</td>\n",
       "    </tr>\n",
       "    <tr>\n",
       "      <th>11</th>\n",
       "      <td>0.900</td>\n",
       "      <td>-30</td>\n",
       "    </tr>\n",
       "    <tr>\n",
       "      <th>12</th>\n",
       "      <td>0.900</td>\n",
       "      <td>650</td>\n",
       "    </tr>\n",
       "    <tr>\n",
       "      <th>13</th>\n",
       "      <td>0.900</td>\n",
       "      <td>150</td>\n",
       "    </tr>\n",
       "    <tr>\n",
       "      <th>14</th>\n",
       "      <td>0.900</td>\n",
       "      <td>500</td>\n",
       "    </tr>\n",
       "    <tr>\n",
       "      <th>15</th>\n",
       "      <td>1.000</td>\n",
       "      <td>920</td>\n",
       "    </tr>\n",
       "    <tr>\n",
       "      <th>16</th>\n",
       "      <td>1.100</td>\n",
       "      <td>450</td>\n",
       "    </tr>\n",
       "    <tr>\n",
       "      <th>17</th>\n",
       "      <td>1.100</td>\n",
       "      <td>500</td>\n",
       "    </tr>\n",
       "    <tr>\n",
       "      <th>18</th>\n",
       "      <td>1.400</td>\n",
       "      <td>500</td>\n",
       "    </tr>\n",
       "    <tr>\n",
       "      <th>19</th>\n",
       "      <td>1.700</td>\n",
       "      <td>960</td>\n",
       "    </tr>\n",
       "    <tr>\n",
       "      <th>20</th>\n",
       "      <td>2.000</td>\n",
       "      <td>500</td>\n",
       "    </tr>\n",
       "    <tr>\n",
       "      <th>21</th>\n",
       "      <td>2.000</td>\n",
       "      <td>850</td>\n",
       "    </tr>\n",
       "    <tr>\n",
       "      <th>22</th>\n",
       "      <td>2.000</td>\n",
       "      <td>800</td>\n",
       "    </tr>\n",
       "    <tr>\n",
       "      <th>23</th>\n",
       "      <td>2.000</td>\n",
       "      <td>1090</td>\n",
       "    </tr>\n",
       "  </tbody>\n",
       "</table>\n",
       "</div>"
      ],
      "text/plain": [
       "    distance  recession_velocity\n",
       "0      0.032                 170\n",
       "1      0.034                 290\n",
       "2      0.214                -130\n",
       "3      0.263                 -70\n",
       "4      0.275                -185\n",
       "5      0.275                -220\n",
       "6      0.450                 200\n",
       "7      0.500                 290\n",
       "8      0.500                 270\n",
       "9      0.630                 200\n",
       "10     0.800                 300\n",
       "11     0.900                 -30\n",
       "12     0.900                 650\n",
       "13     0.900                 150\n",
       "14     0.900                 500\n",
       "15     1.000                 920\n",
       "16     1.100                 450\n",
       "17     1.100                 500\n",
       "18     1.400                 500\n",
       "19     1.700                 960\n",
       "20     2.000                 500\n",
       "21     2.000                 850\n",
       "22     2.000                 800\n",
       "23     2.000                1090"
      ]
     },
     "execution_count": 18,
     "metadata": {
      "tags": []
     },
     "output_type": "execute_result"
    }
   ],
   "source": [
    "hubble_df"
   ]
  },
  {
   "cell_type": "code",
   "execution_count": 15,
   "metadata": {
    "colab": {
     "autoexec": {
      "startup": false,
      "wait_interval": 0
     },
     "base_uri": "https://localhost:8080/",
     "height": 69,
     "output_extras": [
      {
       "item_id": 1
      }
     ]
    },
    "colab_type": "code",
    "executionInfo": {
     "elapsed": 1138,
     "status": "ok",
     "timestamp": 1515925715256,
     "user": {
      "displayName": "Arnab Majumdar",
      "photoUrl": "//lh3.googleusercontent.com/-gUH4TdSB8Wg/AAAAAAAAAAI/AAAAAAAAAAA/MPXW60t-IDo/s50-c-k-no/photo.jpg",
      "userId": "108778055026028251146"
     },
     "user_tz": -330
    },
    "id": "NXridgVJ6C-6",
    "outputId": "030198e7-14fd-4c93-9431-11c9b525cc35"
   },
   "outputs": [
    {
     "data": {
      "text/plain": [
       "distance                0.911375\n",
       "recession_velocity    373.125000\n",
       "dtype: float64"
      ]
     },
     "execution_count": 15,
     "metadata": {},
     "output_type": "execute_result"
    }
   ],
   "source": [
    "hubble_df.mean()"
   ]
  },
  {
   "cell_type": "code",
   "execution_count": 16,
   "metadata": {
    "colab": {
     "autoexec": {
      "startup": false,
      "wait_interval": 0
     },
     "base_uri": "https://localhost:8080/",
     "height": 69,
     "output_extras": [
      {
       "item_id": 1
      }
     ]
    },
    "colab_type": "code",
    "executionInfo": {
     "elapsed": 885,
     "status": "ok",
     "timestamp": 1515925716928,
     "user": {
      "displayName": "Arnab Majumdar",
      "photoUrl": "//lh3.googleusercontent.com/-gUH4TdSB8Wg/AAAAAAAAAAI/AAAAAAAAAAA/MPXW60t-IDo/s50-c-k-no/photo.jpg",
      "userId": "108778055026028251146"
     },
     "user_tz": -330
    },
    "id": "zwNbugCU6C-9",
    "outputId": "2a7a842f-57a7-4125-b5ab-a056aa7b25ef"
   },
   "outputs": [
    {
     "data": {
      "text/plain": [
       "distance                0.032\n",
       "recession_velocity   -220.000\n",
       "dtype: float64"
      ]
     },
     "execution_count": 16,
     "metadata": {},
     "output_type": "execute_result"
    }
   ],
   "source": [
    "hubble_df.min()"
   ]
  },
  {
   "cell_type": "code",
   "execution_count": 8,
   "metadata": {
    "colab": {
     "autoexec": {
      "startup": false,
      "wait_interval": 0
     },
     "base_uri": "https://localhost:8080/",
     "height": 69,
     "output_extras": [
      {
       "item_id": 1
      }
     ]
    },
    "colab_type": "code",
    "executionInfo": {
     "elapsed": 882,
     "status": "ok",
     "timestamp": 1515925718554,
     "user": {
      "displayName": "Arnab Majumdar",
      "photoUrl": "//lh3.googleusercontent.com/-gUH4TdSB8Wg/AAAAAAAAAAI/AAAAAAAAAAA/MPXW60t-IDo/s50-c-k-no/photo.jpg",
      "userId": "108778055026028251146"
     },
     "user_tz": -330
    },
    "id": "9SU-1ehT6C_A",
    "outputId": "eb95c42c-ae76-43a1-d860-91e431f3924e"
   },
   "outputs": [
    {
     "data": {
      "text/plain": [
       "distance                 2.0\n",
       "recession_velocity    1090.0\n",
       "dtype: float64"
      ]
     },
     "execution_count": 8,
     "metadata": {},
     "output_type": "execute_result"
    }
   ],
   "source": [
    "hubble_df.max()"
   ]
  },
  {
   "cell_type": "code",
   "execution_count": 9,
   "metadata": {
    "colab": {
     "autoexec": {
      "startup": false,
      "wait_interval": 0
     },
     "base_uri": "https://localhost:8080/",
     "height": 450,
     "output_extras": [
      {
       "item_id": 1
      }
     ]
    },
    "colab_type": "code",
    "executionInfo": {
     "elapsed": 892,
     "status": "ok",
     "timestamp": 1515925720096,
     "user": {
      "displayName": "Arnab Majumdar",
      "photoUrl": "//lh3.googleusercontent.com/-gUH4TdSB8Wg/AAAAAAAAAAI/AAAAAAAAAAA/MPXW60t-IDo/s50-c-k-no/photo.jpg",
      "userId": "108778055026028251146"
     },
     "user_tz": -330
    },
    "id": "YWQkfrD_6C_E",
    "outputId": "787f9b7c-3b2a-4974-fc6f-afd20dcc5822"
   },
   "outputs": [
    {
     "data": {
      "text/plain": [
       "0     False\n",
       "1     False\n",
       "2      True\n",
       "3      True\n",
       "4      True\n",
       "5      True\n",
       "6     False\n",
       "7     False\n",
       "8     False\n",
       "9     False\n",
       "10    False\n",
       "11     True\n",
       "12    False\n",
       "13    False\n",
       "14    False\n",
       "15    False\n",
       "16    False\n",
       "17    False\n",
       "18    False\n",
       "19    False\n",
       "20    False\n",
       "21    False\n",
       "22    False\n",
       "23    False\n",
       "Name: recession_velocity, dtype: bool"
      ]
     },
     "execution_count": 9,
     "metadata": {},
     "output_type": "execute_result"
    }
   ],
   "source": [
    "hubble_df.recession_velocity < 0"
   ]
  },
  {
   "cell_type": "code",
   "execution_count": 10,
   "metadata": {
    "colab": {
     "autoexec": {
      "startup": false,
      "wait_interval": 0
     },
     "base_uri": "https://localhost:8080/",
     "height": 202,
     "output_extras": [
      {
       "item_id": 1
      }
     ]
    },
    "colab_type": "code",
    "executionInfo": {
     "elapsed": 928,
     "status": "ok",
     "timestamp": 1515925721834,
     "user": {
      "displayName": "Arnab Majumdar",
      "photoUrl": "//lh3.googleusercontent.com/-gUH4TdSB8Wg/AAAAAAAAAAI/AAAAAAAAAAA/MPXW60t-IDo/s50-c-k-no/photo.jpg",
      "userId": "108778055026028251146"
     },
     "user_tz": -330
    },
    "id": "iY6JPHmm6C_I",
    "outputId": "1730de76-8507-40ed-b2cd-b6304c83302c"
   },
   "outputs": [
    {
     "data": {
      "text/html": [
       "<div>\n",
       "<style scoped>\n",
       "    .dataframe tbody tr th:only-of-type {\n",
       "        vertical-align: middle;\n",
       "    }\n",
       "\n",
       "    .dataframe tbody tr th {\n",
       "        vertical-align: top;\n",
       "    }\n",
       "\n",
       "    .dataframe thead th {\n",
       "        text-align: right;\n",
       "    }\n",
       "</style>\n",
       "<table border=\"1\" class=\"dataframe\">\n",
       "  <thead>\n",
       "    <tr style=\"text-align: right;\">\n",
       "      <th></th>\n",
       "      <th>distance</th>\n",
       "      <th>recession_velocity</th>\n",
       "    </tr>\n",
       "  </thead>\n",
       "  <tbody>\n",
       "    <tr>\n",
       "      <th>2</th>\n",
       "      <td>0.214</td>\n",
       "      <td>-130</td>\n",
       "    </tr>\n",
       "    <tr>\n",
       "      <th>3</th>\n",
       "      <td>0.263</td>\n",
       "      <td>-70</td>\n",
       "    </tr>\n",
       "    <tr>\n",
       "      <th>4</th>\n",
       "      <td>0.275</td>\n",
       "      <td>-185</td>\n",
       "    </tr>\n",
       "    <tr>\n",
       "      <th>5</th>\n",
       "      <td>0.275</td>\n",
       "      <td>-220</td>\n",
       "    </tr>\n",
       "    <tr>\n",
       "      <th>11</th>\n",
       "      <td>0.900</td>\n",
       "      <td>-30</td>\n",
       "    </tr>\n",
       "  </tbody>\n",
       "</table>\n",
       "</div>"
      ],
      "text/plain": [
       "    distance  recession_velocity\n",
       "2      0.214                -130\n",
       "3      0.263                 -70\n",
       "4      0.275                -185\n",
       "5      0.275                -220\n",
       "11     0.900                 -30"
      ]
     },
     "execution_count": 10,
     "metadata": {},
     "output_type": "execute_result"
    }
   ],
   "source": [
    "hubble_df[hubble_df.recession_velocity < 0]"
   ]
  },
  {
   "cell_type": "code",
   "execution_count": 11,
   "metadata": {
    "colab": {
     "autoexec": {
      "startup": false,
      "wait_interval": 0
     },
     "base_uri": "https://localhost:8080/",
     "height": 69,
     "output_extras": [
      {
       "item_id": 1
      }
     ]
    },
    "colab_type": "code",
    "executionInfo": {
     "elapsed": 1061,
     "status": "ok",
     "timestamp": 1515925723727,
     "user": {
      "displayName": "Arnab Majumdar",
      "photoUrl": "//lh3.googleusercontent.com/-gUH4TdSB8Wg/AAAAAAAAAAI/AAAAAAAAAAA/MPXW60t-IDo/s50-c-k-no/photo.jpg",
      "userId": "108778055026028251146"
     },
     "user_tz": -330
    },
    "id": "ird-KLql6C_K",
    "outputId": "60005b91-160d-455b-a5be-e7bba77396bd"
   },
   "outputs": [
    {
     "data": {
      "text/plain": [
       "distance              19\n",
       "recession_velocity    19\n",
       "dtype: int64"
      ]
     },
     "execution_count": 11,
     "metadata": {},
     "output_type": "execute_result"
    }
   ],
   "source": [
    "hubble_df[hubble_df.recession_velocity > 0].count()"
   ]
  },
  {
   "cell_type": "code",
   "execution_count": 12,
   "metadata": {
    "colab": {
     "autoexec": {
      "startup": false,
      "wait_interval": 0
     }
    },
    "colab_type": "code",
    "id": "rnmQfEKL6C_O"
   },
   "outputs": [],
   "source": [
    "hubble_df['expected_rv'] = hubble_df.distance * 500"
   ]
  },
  {
   "cell_type": "code",
   "execution_count": 13,
   "metadata": {
    "colab": {
     "autoexec": {
      "startup": false,
      "wait_interval": 0
     },
     "base_uri": "https://localhost:8080/",
     "height": 784,
     "output_extras": [
      {
       "item_id": 1
      }
     ]
    },
    "colab_type": "code",
    "executionInfo": {
     "elapsed": 886,
     "status": "ok",
     "timestamp": 1515925727271,
     "user": {
      "displayName": "Arnab Majumdar",
      "photoUrl": "//lh3.googleusercontent.com/-gUH4TdSB8Wg/AAAAAAAAAAI/AAAAAAAAAAA/MPXW60t-IDo/s50-c-k-no/photo.jpg",
      "userId": "108778055026028251146"
     },
     "user_tz": -330
    },
    "id": "h_KUAqlq6C_U",
    "outputId": "bbfd90e0-14ca-4abe-8775-dae18a8693b3"
   },
   "outputs": [
    {
     "data": {
      "text/html": [
       "<div>\n",
       "<style scoped>\n",
       "    .dataframe tbody tr th:only-of-type {\n",
       "        vertical-align: middle;\n",
       "    }\n",
       "\n",
       "    .dataframe tbody tr th {\n",
       "        vertical-align: top;\n",
       "    }\n",
       "\n",
       "    .dataframe thead th {\n",
       "        text-align: right;\n",
       "    }\n",
       "</style>\n",
       "<table border=\"1\" class=\"dataframe\">\n",
       "  <thead>\n",
       "    <tr style=\"text-align: right;\">\n",
       "      <th></th>\n",
       "      <th>distance</th>\n",
       "      <th>recession_velocity</th>\n",
       "      <th>expected_rv</th>\n",
       "    </tr>\n",
       "  </thead>\n",
       "  <tbody>\n",
       "    <tr>\n",
       "      <th>0</th>\n",
       "      <td>0.032</td>\n",
       "      <td>170</td>\n",
       "      <td>16.0</td>\n",
       "    </tr>\n",
       "    <tr>\n",
       "      <th>1</th>\n",
       "      <td>0.034</td>\n",
       "      <td>290</td>\n",
       "      <td>17.0</td>\n",
       "    </tr>\n",
       "    <tr>\n",
       "      <th>2</th>\n",
       "      <td>0.214</td>\n",
       "      <td>-130</td>\n",
       "      <td>107.0</td>\n",
       "    </tr>\n",
       "    <tr>\n",
       "      <th>3</th>\n",
       "      <td>0.263</td>\n",
       "      <td>-70</td>\n",
       "      <td>131.5</td>\n",
       "    </tr>\n",
       "    <tr>\n",
       "      <th>4</th>\n",
       "      <td>0.275</td>\n",
       "      <td>-185</td>\n",
       "      <td>137.5</td>\n",
       "    </tr>\n",
       "    <tr>\n",
       "      <th>5</th>\n",
       "      <td>0.275</td>\n",
       "      <td>-220</td>\n",
       "      <td>137.5</td>\n",
       "    </tr>\n",
       "    <tr>\n",
       "      <th>6</th>\n",
       "      <td>0.450</td>\n",
       "      <td>200</td>\n",
       "      <td>225.0</td>\n",
       "    </tr>\n",
       "    <tr>\n",
       "      <th>7</th>\n",
       "      <td>0.500</td>\n",
       "      <td>290</td>\n",
       "      <td>250.0</td>\n",
       "    </tr>\n",
       "    <tr>\n",
       "      <th>8</th>\n",
       "      <td>0.500</td>\n",
       "      <td>270</td>\n",
       "      <td>250.0</td>\n",
       "    </tr>\n",
       "    <tr>\n",
       "      <th>9</th>\n",
       "      <td>0.630</td>\n",
       "      <td>200</td>\n",
       "      <td>315.0</td>\n",
       "    </tr>\n",
       "    <tr>\n",
       "      <th>10</th>\n",
       "      <td>0.800</td>\n",
       "      <td>300</td>\n",
       "      <td>400.0</td>\n",
       "    </tr>\n",
       "    <tr>\n",
       "      <th>11</th>\n",
       "      <td>0.900</td>\n",
       "      <td>-30</td>\n",
       "      <td>450.0</td>\n",
       "    </tr>\n",
       "    <tr>\n",
       "      <th>12</th>\n",
       "      <td>0.900</td>\n",
       "      <td>650</td>\n",
       "      <td>450.0</td>\n",
       "    </tr>\n",
       "    <tr>\n",
       "      <th>13</th>\n",
       "      <td>0.900</td>\n",
       "      <td>150</td>\n",
       "      <td>450.0</td>\n",
       "    </tr>\n",
       "    <tr>\n",
       "      <th>14</th>\n",
       "      <td>0.900</td>\n",
       "      <td>500</td>\n",
       "      <td>450.0</td>\n",
       "    </tr>\n",
       "    <tr>\n",
       "      <th>15</th>\n",
       "      <td>1.000</td>\n",
       "      <td>920</td>\n",
       "      <td>500.0</td>\n",
       "    </tr>\n",
       "    <tr>\n",
       "      <th>16</th>\n",
       "      <td>1.100</td>\n",
       "      <td>450</td>\n",
       "      <td>550.0</td>\n",
       "    </tr>\n",
       "    <tr>\n",
       "      <th>17</th>\n",
       "      <td>1.100</td>\n",
       "      <td>500</td>\n",
       "      <td>550.0</td>\n",
       "    </tr>\n",
       "    <tr>\n",
       "      <th>18</th>\n",
       "      <td>1.400</td>\n",
       "      <td>500</td>\n",
       "      <td>700.0</td>\n",
       "    </tr>\n",
       "    <tr>\n",
       "      <th>19</th>\n",
       "      <td>1.700</td>\n",
       "      <td>960</td>\n",
       "      <td>850.0</td>\n",
       "    </tr>\n",
       "    <tr>\n",
       "      <th>20</th>\n",
       "      <td>2.000</td>\n",
       "      <td>500</td>\n",
       "      <td>1000.0</td>\n",
       "    </tr>\n",
       "    <tr>\n",
       "      <th>21</th>\n",
       "      <td>2.000</td>\n",
       "      <td>850</td>\n",
       "      <td>1000.0</td>\n",
       "    </tr>\n",
       "    <tr>\n",
       "      <th>22</th>\n",
       "      <td>2.000</td>\n",
       "      <td>800</td>\n",
       "      <td>1000.0</td>\n",
       "    </tr>\n",
       "    <tr>\n",
       "      <th>23</th>\n",
       "      <td>2.000</td>\n",
       "      <td>1090</td>\n",
       "      <td>1000.0</td>\n",
       "    </tr>\n",
       "  </tbody>\n",
       "</table>\n",
       "</div>"
      ],
      "text/plain": [
       "    distance  recession_velocity  expected_rv\n",
       "0      0.032                 170         16.0\n",
       "1      0.034                 290         17.0\n",
       "2      0.214                -130        107.0\n",
       "3      0.263                 -70        131.5\n",
       "4      0.275                -185        137.5\n",
       "5      0.275                -220        137.5\n",
       "6      0.450                 200        225.0\n",
       "7      0.500                 290        250.0\n",
       "8      0.500                 270        250.0\n",
       "9      0.630                 200        315.0\n",
       "10     0.800                 300        400.0\n",
       "11     0.900                 -30        450.0\n",
       "12     0.900                 650        450.0\n",
       "13     0.900                 150        450.0\n",
       "14     0.900                 500        450.0\n",
       "15     1.000                 920        500.0\n",
       "16     1.100                 450        550.0\n",
       "17     1.100                 500        550.0\n",
       "18     1.400                 500        700.0\n",
       "19     1.700                 960        850.0\n",
       "20     2.000                 500       1000.0\n",
       "21     2.000                 850       1000.0\n",
       "22     2.000                 800       1000.0\n",
       "23     2.000                1090       1000.0"
      ]
     },
     "execution_count": 13,
     "metadata": {},
     "output_type": "execute_result"
    }
   ],
   "source": [
    "hubble_df"
   ]
  },
  {
   "cell_type": "code",
   "execution_count": 14,
   "metadata": {
    "colab": {
     "autoexec": {
      "startup": false,
      "wait_interval": 0
     },
     "base_uri": "https://localhost:8080/",
     "height": 450,
     "output_extras": [
      {
       "item_id": 1
      }
     ]
    },
    "colab_type": "code",
    "executionInfo": {
     "elapsed": 885,
     "status": "ok",
     "timestamp": 1515925729122,
     "user": {
      "displayName": "Arnab Majumdar",
      "photoUrl": "//lh3.googleusercontent.com/-gUH4TdSB8Wg/AAAAAAAAAAI/AAAAAAAAAAA/MPXW60t-IDo/s50-c-k-no/photo.jpg",
      "userId": "108778055026028251146"
     },
     "user_tz": -330
    },
    "id": "HmM_Q_I76C_Y",
    "outputId": "bf6e8d1c-7133-4315-ff09-129206a36f37"
   },
   "outputs": [
    {
     "data": {
      "text/plain": [
       "0     154.0\n",
       "1     273.0\n",
       "2    -237.0\n",
       "3    -201.5\n",
       "4    -322.5\n",
       "5    -357.5\n",
       "6     -25.0\n",
       "7      40.0\n",
       "8      20.0\n",
       "9    -115.0\n",
       "10   -100.0\n",
       "11   -480.0\n",
       "12    200.0\n",
       "13   -300.0\n",
       "14     50.0\n",
       "15    420.0\n",
       "16   -100.0\n",
       "17    -50.0\n",
       "18   -200.0\n",
       "19    110.0\n",
       "20   -500.0\n",
       "21   -150.0\n",
       "22   -200.0\n",
       "23     90.0\n",
       "dtype: float64"
      ]
     },
     "execution_count": 14,
     "metadata": {},
     "output_type": "execute_result"
    }
   ],
   "source": [
    "hubble_df.recession_velocity - hubble_df.expected_rv"
   ]
  },
  {
   "cell_type": "code",
   "execution_count": 15,
   "metadata": {
    "colab": {
     "autoexec": {
      "startup": false,
      "wait_interval": 0
     },
     "base_uri": "https://localhost:8080/",
     "height": 34,
     "output_extras": [
      {
       "item_id": 1
      }
     ]
    },
    "colab_type": "code",
    "executionInfo": {
     "elapsed": 996,
     "status": "ok",
     "timestamp": 1515925731677,
     "user": {
      "displayName": "Arnab Majumdar",
      "photoUrl": "//lh3.googleusercontent.com/-gUH4TdSB8Wg/AAAAAAAAAAI/AAAAAAAAAAA/MPXW60t-IDo/s50-c-k-no/photo.jpg",
      "userId": "108778055026028251146"
     },
     "user_tz": -330
    },
    "id": "Fdj2Pwl56C_d",
    "outputId": "c77d98df-410b-41fd-9dd4-b4a181cb0bb6"
   },
   "outputs": [
    {
     "data": {
      "text/plain": [
       "-82.5625"
      ]
     },
     "execution_count": 15,
     "metadata": {},
     "output_type": "execute_result"
    }
   ],
   "source": [
    "hubble_df.recession_velocity.mean() - hubble_df.expected_rv.mean()"
   ]
  },
  {
   "cell_type": "code",
   "execution_count": 17,
   "metadata": {
    "colab": {
     "autoexec": {
      "startup": false,
      "wait_interval": 0
     },
     "base_uri": "https://localhost:8080/",
     "height": 361,
     "output_extras": [
      {
       "item_id": 1
      }
     ]
    },
    "colab_type": "code",
    "executionInfo": {
     "elapsed": 1291,
     "status": "ok",
     "timestamp": 1515925733850,
     "user": {
      "displayName": "Arnab Majumdar",
      "photoUrl": "//lh3.googleusercontent.com/-gUH4TdSB8Wg/AAAAAAAAAAI/AAAAAAAAAAA/MPXW60t-IDo/s50-c-k-no/photo.jpg",
      "userId": "108778055026028251146"
     },
     "user_tz": -330
    },
    "id": "xOJD3ey_6C_h",
    "outputId": "655c209c-ef9a-4f9e-f361-59c1adbd4857"
   },
   "outputs": [
    {
     "data": {
      "image/png": "[encoded data removed]",
      "text/plain": [
       "<matplotlib.figure.Figure at 0xaf21f60>"
      ]
     },
     "metadata": {},
     "output_type": "display_data"
    }
   ],
   "source": [
    "hubble_df.set_index('distance').plot()\n",
    "plt.show()"
   ]
  },
  {
   "cell_type": "code",
   "execution_count": 0,
   "metadata": {
    "colab": {
     "autoexec": {
      "startup": false,
      "wait_interval": 0
     }
    },
    "colab_type": "code",
    "id": "Xk5CQmOE6C_n"
   },
   "outputs": [],
   "source": []
  }
 ],
 "metadata": {
  "colab": {
   "default_view": {},
   "name": "descriptive_analysis_1_Hubble.ipynb",
   "provenance": [],
   "version": "0.3.2",
   "views": {}
  },
  "kernelspec": {
   "display_name": "Python 3",
   "language": "python",
   "name": "python3"
  },
  "language_info": {
   "codemirror_mode": {
    "name": "ipython",
    "version": 3
   },
   "file_extension": ".py",
   "mimetype": "text/x-python",
   "name": "python",
   "nbconvert_exporter": "python",
   "pygments_lexer": "ipython3",
   "version": "3.6.4"
  }
 },
 "nbformat": 4,
 "nbformat_minor": 1
}
