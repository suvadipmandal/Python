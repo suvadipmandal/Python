{
 "cells": [
  {
   "cell_type": "markdown",
   "metadata": {},
   "source": [
    "### Wages Problem"
   ]
  },
  {
   "cell_type": "code",
   "execution_count": 41,
   "metadata": {
    "collapsed": true
   },
   "outputs": [],
   "source": [
    "import pandas as pd\n",
    "import matplotlib.pyplot as plt"
   ]
  },
  {
   "cell_type": "code",
   "execution_count": 42,
   "metadata": {
    "collapsed": true
   },
   "outputs": [],
   "source": [
    "wages_df = pd.read_csv('https://raw.githubusercontent.com/shantnu/Intro-to-Pandas/master/wages_hours.csv')"
   ]
  },
  {
   "cell_type": "code",
   "execution_count": 43,
   "metadata": {
    "collapsed": false
   },
   "outputs": [
    {
     "data": {
      "text/html": [
       "<div>\n",
       "<table border=\"1\" class=\"dataframe\">\n",
       "  <thead>\n",
       "    <tr style=\"text-align: right;\">\n",
       "      <th></th>\n",
       "      <th>HRS\tRATE\tERSP\tERNO\tNEIN\tASSET\tAGE\tDEP\tRACE\tSCHOOL</th>\n",
       "    </tr>\n",
       "  </thead>\n",
       "  <tbody>\n",
       "    <tr>\n",
       "      <th>0</th>\n",
       "      <td>2157\\t2.905\\t1121\\t291\\t380\\t7250\\t38.5\\t2.340...</td>\n",
       "    </tr>\n",
       "    <tr>\n",
       "      <th>1</th>\n",
       "      <td>2174\\t2.970\\t1128\\t301\\t398\\t7744\\t39.3\\t2.335...</td>\n",
       "    </tr>\n",
       "    <tr>\n",
       "      <th>2</th>\n",
       "      <td>2062\\t2.350\\t1214\\t326\\t185\\t3068\\t40.1\\t2.851...</td>\n",
       "    </tr>\n",
       "    <tr>\n",
       "      <th>3</th>\n",
       "      <td>2111\\t2.511\\t1203\\t49\\t117\\t1632\\t22.4\\t1.159\\...</td>\n",
       "    </tr>\n",
       "    <tr>\n",
       "      <th>4</th>\n",
       "      <td>2134\\t2.791\\t1013\\t594\\t730\\t12710\\t57.7\\t1.22...</td>\n",
       "    </tr>\n",
       "  </tbody>\n",
       "</table>\n",
       "</div>"
      ],
      "text/plain": [
       "  HRS\\tRATE\\tERSP\\tERNO\\tNEIN\\tASSET\\tAGE\\tDEP\\tRACE\\tSCHOOL\n",
       "0  2157\\t2.905\\t1121\\t291\\t380\\t7250\\t38.5\\t2.340...        \n",
       "1  2174\\t2.970\\t1128\\t301\\t398\\t7744\\t39.3\\t2.335...        \n",
       "2  2062\\t2.350\\t1214\\t326\\t185\\t3068\\t40.1\\t2.851...        \n",
       "3  2111\\t2.511\\t1203\\t49\\t117\\t1632\\t22.4\\t1.159\\...        \n",
       "4  2134\\t2.791\\t1013\\t594\\t730\\t12710\\t57.7\\t1.22...        "
      ]
     },
     "execution_count": 43,
     "metadata": {},
     "output_type": "execute_result"
    }
   ],
   "source": [
    "wages_df.head()"
   ]
  },
  {
   "cell_type": "code",
   "execution_count": 44,
   "metadata": {
    "collapsed": false
   },
   "outputs": [],
   "source": [
    "wages_df = pd.read_csv('https://raw.githubusercontent.com/shantnu/Intro-to-Pandas/master/wages_hours.csv', sep = '\\t')"
   ]
  },
  {
   "cell_type": "code",
   "execution_count": 51,
   "metadata": {
    "collapsed": false
   },
   "outputs": [
    {
     "data": {
      "text/html": [
       "<div>\n",
       "<table border=\"1\" class=\"dataframe\">\n",
       "  <thead>\n",
       "    <tr style=\"text-align: right;\">\n",
       "      <th></th>\n",
       "      <th>HRS</th>\n",
       "      <th>RATE</th>\n",
       "      <th>ERSP</th>\n",
       "      <th>ERNO</th>\n",
       "      <th>NEIN</th>\n",
       "      <th>ASSET</th>\n",
       "      <th>AGE</th>\n",
       "      <th>DEP</th>\n",
       "      <th>RACE</th>\n",
       "      <th>SCHOOL</th>\n",
       "    </tr>\n",
       "  </thead>\n",
       "  <tbody>\n",
       "    <tr>\n",
       "      <th>0</th>\n",
       "      <td>2157</td>\n",
       "      <td>2.905</td>\n",
       "      <td>1121</td>\n",
       "      <td>291</td>\n",
       "      <td>380</td>\n",
       "      <td>7250</td>\n",
       "      <td>38.5</td>\n",
       "      <td>2.340</td>\n",
       "      <td>32.1</td>\n",
       "      <td>10.5</td>\n",
       "    </tr>\n",
       "    <tr>\n",
       "      <th>1</th>\n",
       "      <td>2174</td>\n",
       "      <td>2.970</td>\n",
       "      <td>1128</td>\n",
       "      <td>301</td>\n",
       "      <td>398</td>\n",
       "      <td>7744</td>\n",
       "      <td>39.3</td>\n",
       "      <td>2.335</td>\n",
       "      <td>31.2</td>\n",
       "      <td>10.5</td>\n",
       "    </tr>\n",
       "    <tr>\n",
       "      <th>2</th>\n",
       "      <td>2062</td>\n",
       "      <td>2.350</td>\n",
       "      <td>1214</td>\n",
       "      <td>326</td>\n",
       "      <td>185</td>\n",
       "      <td>3068</td>\n",
       "      <td>40.1</td>\n",
       "      <td>2.851</td>\n",
       "      <td>*</td>\n",
       "      <td>8.9</td>\n",
       "    </tr>\n",
       "    <tr>\n",
       "      <th>3</th>\n",
       "      <td>2111</td>\n",
       "      <td>2.511</td>\n",
       "      <td>1203</td>\n",
       "      <td>49</td>\n",
       "      <td>117</td>\n",
       "      <td>1632</td>\n",
       "      <td>22.4</td>\n",
       "      <td>1.159</td>\n",
       "      <td>27.5</td>\n",
       "      <td>11.5</td>\n",
       "    </tr>\n",
       "    <tr>\n",
       "      <th>4</th>\n",
       "      <td>2134</td>\n",
       "      <td>2.791</td>\n",
       "      <td>1013</td>\n",
       "      <td>594</td>\n",
       "      <td>730</td>\n",
       "      <td>12710</td>\n",
       "      <td>57.7</td>\n",
       "      <td>1.229</td>\n",
       "      <td>32.5</td>\n",
       "      <td>8.8</td>\n",
       "    </tr>\n",
       "  </tbody>\n",
       "</table>\n",
       "</div>"
      ],
      "text/plain": [
       "    HRS   RATE  ERSP ERNO  NEIN  ASSET   AGE    DEP  RACE  SCHOOL\n",
       "0  2157  2.905  1121  291   380   7250  38.5  2.340  32.1    10.5\n",
       "1  2174  2.970  1128  301   398   7744  39.3  2.335  31.2    10.5\n",
       "2  2062  2.350  1214  326   185   3068  40.1  2.851     *     8.9\n",
       "3  2111  2.511  1203   49   117   1632  22.4  1.159  27.5    11.5\n",
       "4  2134  2.791  1013  594   730  12710  57.7  1.229  32.5     8.8"
      ]
     },
     "execution_count": 51,
     "metadata": {},
     "output_type": "execute_result"
    }
   ],
   "source": [
    "wages_df.head()"
   ]
  },
  {
   "cell_type": "code",
   "execution_count": 52,
   "metadata": {
    "collapsed": false
   },
   "outputs": [
    {
     "data": {
      "text/plain": [
       "83358"
      ]
     },
     "execution_count": 52,
     "metadata": {},
     "output_type": "execute_result"
    }
   ],
   "source": [
    "wages_df['HRS'].sum()"
   ]
  },
  {
   "cell_type": "code",
   "execution_count": 53,
   "metadata": {
    "collapsed": true
   },
   "outputs": [],
   "source": [
    "wages_df['PAYABLE'] = wages_df.HRS * wages_df.RATE"
   ]
  },
  {
   "cell_type": "code",
   "execution_count": 54,
   "metadata": {
    "collapsed": false
   },
   "outputs": [
    {
     "data": {
      "text/html": [
       "<div>\n",
       "<table border=\"1\" class=\"dataframe\">\n",
       "  <thead>\n",
       "    <tr style=\"text-align: right;\">\n",
       "      <th></th>\n",
       "      <th>HRS</th>\n",
       "      <th>RATE</th>\n",
       "      <th>ERSP</th>\n",
       "      <th>ERNO</th>\n",
       "      <th>NEIN</th>\n",
       "      <th>ASSET</th>\n",
       "      <th>AGE</th>\n",
       "      <th>DEP</th>\n",
       "      <th>RACE</th>\n",
       "      <th>SCHOOL</th>\n",
       "      <th>PAYABLE</th>\n",
       "    </tr>\n",
       "  </thead>\n",
       "  <tbody>\n",
       "    <tr>\n",
       "      <th>0</th>\n",
       "      <td>2157</td>\n",
       "      <td>2.905</td>\n",
       "      <td>1121</td>\n",
       "      <td>291</td>\n",
       "      <td>380</td>\n",
       "      <td>7250</td>\n",
       "      <td>38.5</td>\n",
       "      <td>2.340</td>\n",
       "      <td>32.1</td>\n",
       "      <td>10.5</td>\n",
       "      <td>6266.085</td>\n",
       "    </tr>\n",
       "    <tr>\n",
       "      <th>1</th>\n",
       "      <td>2174</td>\n",
       "      <td>2.970</td>\n",
       "      <td>1128</td>\n",
       "      <td>301</td>\n",
       "      <td>398</td>\n",
       "      <td>7744</td>\n",
       "      <td>39.3</td>\n",
       "      <td>2.335</td>\n",
       "      <td>31.2</td>\n",
       "      <td>10.5</td>\n",
       "      <td>6456.780</td>\n",
       "    </tr>\n",
       "    <tr>\n",
       "      <th>2</th>\n",
       "      <td>2062</td>\n",
       "      <td>2.350</td>\n",
       "      <td>1214</td>\n",
       "      <td>326</td>\n",
       "      <td>185</td>\n",
       "      <td>3068</td>\n",
       "      <td>40.1</td>\n",
       "      <td>2.851</td>\n",
       "      <td>*</td>\n",
       "      <td>8.9</td>\n",
       "      <td>4845.700</td>\n",
       "    </tr>\n",
       "    <tr>\n",
       "      <th>3</th>\n",
       "      <td>2111</td>\n",
       "      <td>2.511</td>\n",
       "      <td>1203</td>\n",
       "      <td>49</td>\n",
       "      <td>117</td>\n",
       "      <td>1632</td>\n",
       "      <td>22.4</td>\n",
       "      <td>1.159</td>\n",
       "      <td>27.5</td>\n",
       "      <td>11.5</td>\n",
       "      <td>5300.721</td>\n",
       "    </tr>\n",
       "    <tr>\n",
       "      <th>4</th>\n",
       "      <td>2134</td>\n",
       "      <td>2.791</td>\n",
       "      <td>1013</td>\n",
       "      <td>594</td>\n",
       "      <td>730</td>\n",
       "      <td>12710</td>\n",
       "      <td>57.7</td>\n",
       "      <td>1.229</td>\n",
       "      <td>32.5</td>\n",
       "      <td>8.8</td>\n",
       "      <td>5955.994</td>\n",
       "    </tr>\n",
       "  </tbody>\n",
       "</table>\n",
       "</div>"
      ],
      "text/plain": [
       "    HRS   RATE  ERSP ERNO  NEIN  ASSET   AGE    DEP  RACE  SCHOOL   PAYABLE\n",
       "0  2157  2.905  1121  291   380   7250  38.5  2.340  32.1    10.5  6266.085\n",
       "1  2174  2.970  1128  301   398   7744  39.3  2.335  31.2    10.5  6456.780\n",
       "2  2062  2.350  1214  326   185   3068  40.1  2.851     *     8.9  4845.700\n",
       "3  2111  2.511  1203   49   117   1632  22.4  1.159  27.5    11.5  5300.721\n",
       "4  2134  2.791  1013  594   730  12710  57.7  1.229  32.5     8.8  5955.994"
      ]
     },
     "execution_count": 54,
     "metadata": {},
     "output_type": "execute_result"
    }
   ],
   "source": [
    "wages_df.head()"
   ]
  },
  {
   "cell_type": "code",
   "execution_count": 29,
   "metadata": {
    "collapsed": false
   },
   "outputs": [],
   "source": [
    "wages2 = wages_df[['AGE', 'RATE', 'HRS', 'PAYABLE']]"
   ]
  },
  {
   "cell_type": "code",
   "execution_count": 38,
   "metadata": {
    "collapsed": false
   },
   "outputs": [
    {
     "data": {
      "text/html": [
       "<div>\n",
       "<table border=\"1\" class=\"dataframe\">\n",
       "  <thead>\n",
       "    <tr style=\"text-align: right;\">\n",
       "      <th></th>\n",
       "      <th>AGE</th>\n",
       "      <th>RATE</th>\n",
       "      <th>HRS</th>\n",
       "      <th>PAYABLE</th>\n",
       "    </tr>\n",
       "  </thead>\n",
       "  <tbody>\n",
       "    <tr>\n",
       "      <th>0</th>\n",
       "      <td>38.5</td>\n",
       "      <td>2.905</td>\n",
       "      <td>2157</td>\n",
       "      <td>6266.085</td>\n",
       "    </tr>\n",
       "    <tr>\n",
       "      <th>1</th>\n",
       "      <td>39.3</td>\n",
       "      <td>2.970</td>\n",
       "      <td>2174</td>\n",
       "      <td>6456.780</td>\n",
       "    </tr>\n",
       "    <tr>\n",
       "      <th>2</th>\n",
       "      <td>40.1</td>\n",
       "      <td>2.350</td>\n",
       "      <td>2062</td>\n",
       "      <td>4845.700</td>\n",
       "    </tr>\n",
       "    <tr>\n",
       "      <th>3</th>\n",
       "      <td>22.4</td>\n",
       "      <td>2.511</td>\n",
       "      <td>2111</td>\n",
       "      <td>5300.721</td>\n",
       "    </tr>\n",
       "    <tr>\n",
       "      <th>4</th>\n",
       "      <td>57.7</td>\n",
       "      <td>2.791</td>\n",
       "      <td>2134</td>\n",
       "      <td>5955.994</td>\n",
       "    </tr>\n",
       "  </tbody>\n",
       "</table>\n",
       "</div>"
      ],
      "text/plain": [
       "    AGE   RATE   HRS   PAYABLE\n",
       "0  38.5  2.905  2157  6266.085\n",
       "1  39.3  2.970  2174  6456.780\n",
       "2  40.1  2.350  2062  4845.700\n",
       "3  22.4  2.511  2111  5300.721\n",
       "4  57.7  2.791  2134  5955.994"
      ]
     },
     "execution_count": 38,
     "metadata": {},
     "output_type": "execute_result"
    }
   ],
   "source": [
    "wages2.head()"
   ]
  },
  {
   "cell_type": "code",
   "execution_count": 93,
   "metadata": {
    "collapsed": false
   },
   "outputs": [],
   "source": [
    "data_sorted = wages2.sort_values(\"AGE\",ascending=True)"
   ]
  },
  {
   "cell_type": "code",
   "execution_count": 92,
   "metadata": {
    "collapsed": false
   },
   "outputs": [
    {
     "data": {
      "text/html": [
       "<div>\n",
       "<table border=\"1\" class=\"dataframe\">\n",
       "  <thead>\n",
       "    <tr style=\"text-align: right;\">\n",
       "      <th></th>\n",
       "      <th>AGE</th>\n",
       "      <th>RATE</th>\n",
       "      <th>HRS</th>\n",
       "      <th>PAYABLE</th>\n",
       "    </tr>\n",
       "  </thead>\n",
       "  <tbody>\n",
       "    <tr>\n",
       "      <th>4</th>\n",
       "      <td>57.7</td>\n",
       "      <td>2.791</td>\n",
       "      <td>2134</td>\n",
       "      <td>5955.994</td>\n",
       "    </tr>\n",
       "    <tr>\n",
       "      <th>28</th>\n",
       "      <td>43.4</td>\n",
       "      <td>2.786</td>\n",
       "      <td>2108</td>\n",
       "      <td>5872.888</td>\n",
       "    </tr>\n",
       "    <tr>\n",
       "      <th>25</th>\n",
       "      <td>41.8</td>\n",
       "      <td>2.304</td>\n",
       "      <td>2042</td>\n",
       "      <td>4704.768</td>\n",
       "    </tr>\n",
       "    <tr>\n",
       "      <th>18</th>\n",
       "      <td>40.6</td>\n",
       "      <td>1.423</td>\n",
       "      <td>1985</td>\n",
       "      <td>2824.655</td>\n",
       "    </tr>\n",
       "    <tr>\n",
       "      <th>24</th>\n",
       "      <td>40.6</td>\n",
       "      <td>2.280</td>\n",
       "      <td>2098</td>\n",
       "      <td>4783.440</td>\n",
       "    </tr>\n",
       "    <tr>\n",
       "      <th>37</th>\n",
       "      <td>40.5</td>\n",
       "      <td>2.630</td>\n",
       "      <td>2052</td>\n",
       "      <td>5396.760</td>\n",
       "    </tr>\n",
       "    <tr>\n",
       "      <th>13</th>\n",
       "      <td>40.3</td>\n",
       "      <td>2.453</td>\n",
       "      <td>2047</td>\n",
       "      <td>5021.291</td>\n",
       "    </tr>\n",
       "    <tr>\n",
       "      <th>2</th>\n",
       "      <td>40.1</td>\n",
       "      <td>2.350</td>\n",
       "      <td>2062</td>\n",
       "      <td>4845.700</td>\n",
       "    </tr>\n",
       "    <tr>\n",
       "      <th>21</th>\n",
       "      <td>40.0</td>\n",
       "      <td>2.573</td>\n",
       "      <td>2051</td>\n",
       "      <td>5277.223</td>\n",
       "    </tr>\n",
       "    <tr>\n",
       "      <th>14</th>\n",
       "      <td>40.0</td>\n",
       "      <td>3.582</td>\n",
       "      <td>2174</td>\n",
       "      <td>7787.268</td>\n",
       "    </tr>\n",
       "    <tr>\n",
       "      <th>7</th>\n",
       "      <td>39.9</td>\n",
       "      <td>2.493</td>\n",
       "      <td>2105</td>\n",
       "      <td>5247.765</td>\n",
       "    </tr>\n",
       "    <tr>\n",
       "      <th>20</th>\n",
       "      <td>39.8</td>\n",
       "      <td>2.983</td>\n",
       "      <td>2084</td>\n",
       "      <td>6216.572</td>\n",
       "    </tr>\n",
       "    <tr>\n",
       "      <th>23</th>\n",
       "      <td>39.8</td>\n",
       "      <td>3.234</td>\n",
       "      <td>2102</td>\n",
       "      <td>6797.868</td>\n",
       "    </tr>\n",
       "    <tr>\n",
       "      <th>10</th>\n",
       "      <td>39.8</td>\n",
       "      <td>2.922</td>\n",
       "      <td>2121</td>\n",
       "      <td>6197.562</td>\n",
       "    </tr>\n",
       "    <tr>\n",
       "      <th>11</th>\n",
       "      <td>39.7</td>\n",
       "      <td>2.499</td>\n",
       "      <td>2109</td>\n",
       "      <td>5270.391</td>\n",
       "    </tr>\n",
       "    <tr>\n",
       "      <th>22</th>\n",
       "      <td>39.5</td>\n",
       "      <td>3.262</td>\n",
       "      <td>2127</td>\n",
       "      <td>6938.274</td>\n",
       "    </tr>\n",
       "    <tr>\n",
       "      <th>35</th>\n",
       "      <td>39.4</td>\n",
       "      <td>2.971</td>\n",
       "      <td>2179</td>\n",
       "      <td>6473.809</td>\n",
       "    </tr>\n",
       "    <tr>\n",
       "      <th>16</th>\n",
       "      <td>39.3</td>\n",
       "      <td>2.511</td>\n",
       "      <td>2159</td>\n",
       "      <td>5421.249</td>\n",
       "    </tr>\n",
       "    <tr>\n",
       "      <th>1</th>\n",
       "      <td>39.3</td>\n",
       "      <td>2.970</td>\n",
       "      <td>2174</td>\n",
       "      <td>6456.780</td>\n",
       "    </tr>\n",
       "    <tr>\n",
       "      <th>34</th>\n",
       "      <td>39.2</td>\n",
       "      <td>2.959</td>\n",
       "      <td>2173</td>\n",
       "      <td>6429.907</td>\n",
       "    </tr>\n",
       "    <tr>\n",
       "      <th>36</th>\n",
       "      <td>39.2</td>\n",
       "      <td>2.980</td>\n",
       "      <td>2200</td>\n",
       "      <td>6556.000</td>\n",
       "    </tr>\n",
       "    <tr>\n",
       "      <th>19</th>\n",
       "      <td>39.1</td>\n",
       "      <td>3.636</td>\n",
       "      <td>2184</td>\n",
       "      <td>7941.024</td>\n",
       "    </tr>\n",
       "    <tr>\n",
       "      <th>38</th>\n",
       "      <td>39.1</td>\n",
       "      <td>3.413</td>\n",
       "      <td>2197</td>\n",
       "      <td>7498.361</td>\n",
       "    </tr>\n",
       "    <tr>\n",
       "      <th>15</th>\n",
       "      <td>39.1</td>\n",
       "      <td>2.909</td>\n",
       "      <td>2067</td>\n",
       "      <td>6012.903</td>\n",
       "    </tr>\n",
       "    <tr>\n",
       "      <th>26</th>\n",
       "      <td>39.0</td>\n",
       "      <td>2.912</td>\n",
       "      <td>2181</td>\n",
       "      <td>6351.072</td>\n",
       "    </tr>\n",
       "    <tr>\n",
       "      <th>6</th>\n",
       "      <td>39.0</td>\n",
       "      <td>3.222</td>\n",
       "      <td>2210</td>\n",
       "      <td>7120.620</td>\n",
       "    </tr>\n",
       "    <tr>\n",
       "      <th>8</th>\n",
       "      <td>38.9</td>\n",
       "      <td>2.838</td>\n",
       "      <td>2267</td>\n",
       "      <td>6433.746</td>\n",
       "    </tr>\n",
       "    <tr>\n",
       "      <th>9</th>\n",
       "      <td>38.8</td>\n",
       "      <td>2.356</td>\n",
       "      <td>2205</td>\n",
       "      <td>5194.980</td>\n",
       "    </tr>\n",
       "    <tr>\n",
       "      <th>5</th>\n",
       "      <td>38.6</td>\n",
       "      <td>3.040</td>\n",
       "      <td>2185</td>\n",
       "      <td>6642.400</td>\n",
       "    </tr>\n",
       "    <tr>\n",
       "      <th>0</th>\n",
       "      <td>38.5</td>\n",
       "      <td>2.905</td>\n",
       "      <td>2157</td>\n",
       "      <td>6266.085</td>\n",
       "    </tr>\n",
       "    <tr>\n",
       "      <th>29</th>\n",
       "      <td>38.4</td>\n",
       "      <td>3.010</td>\n",
       "      <td>2188</td>\n",
       "      <td>6585.880</td>\n",
       "    </tr>\n",
       "    <tr>\n",
       "      <th>12</th>\n",
       "      <td>38.2</td>\n",
       "      <td>2.796</td>\n",
       "      <td>2108</td>\n",
       "      <td>5893.968</td>\n",
       "    </tr>\n",
       "    <tr>\n",
       "      <th>30</th>\n",
       "      <td>38.2</td>\n",
       "      <td>3.273</td>\n",
       "      <td>2203</td>\n",
       "      <td>7210.419</td>\n",
       "    </tr>\n",
       "    <tr>\n",
       "      <th>17</th>\n",
       "      <td>37.9</td>\n",
       "      <td>2.516</td>\n",
       "      <td>2257</td>\n",
       "      <td>5678.612</td>\n",
       "    </tr>\n",
       "    <tr>\n",
       "      <th>32</th>\n",
       "      <td>37.5</td>\n",
       "      <td>3.009</td>\n",
       "      <td>2196</td>\n",
       "      <td>6607.764</td>\n",
       "    </tr>\n",
       "    <tr>\n",
       "      <th>33</th>\n",
       "      <td>37.5</td>\n",
       "      <td>1.899</td>\n",
       "      <td>2093</td>\n",
       "      <td>3974.607</td>\n",
       "    </tr>\n",
       "    <tr>\n",
       "      <th>31</th>\n",
       "      <td>37.4</td>\n",
       "      <td>1.901</td>\n",
       "      <td>2077</td>\n",
       "      <td>3948.377</td>\n",
       "    </tr>\n",
       "    <tr>\n",
       "      <th>27</th>\n",
       "      <td>37.2</td>\n",
       "      <td>3.015</td>\n",
       "      <td>2186</td>\n",
       "      <td>6590.790</td>\n",
       "    </tr>\n",
       "    <tr>\n",
       "      <th>3</th>\n",
       "      <td>22.4</td>\n",
       "      <td>2.511</td>\n",
       "      <td>2111</td>\n",
       "      <td>5300.721</td>\n",
       "    </tr>\n",
       "  </tbody>\n",
       "</table>\n",
       "</div>"
      ],
      "text/plain": [
       "     AGE   RATE   HRS   PAYABLE\n",
       "4   57.7  2.791  2134  5955.994\n",
       "28  43.4  2.786  2108  5872.888\n",
       "25  41.8  2.304  2042  4704.768\n",
       "18  40.6  1.423  1985  2824.655\n",
       "24  40.6  2.280  2098  4783.440\n",
       "37  40.5  2.630  2052  5396.760\n",
       "13  40.3  2.453  2047  5021.291\n",
       "2   40.1  2.350  2062  4845.700\n",
       "21  40.0  2.573  2051  5277.223\n",
       "14  40.0  3.582  2174  7787.268\n",
       "7   39.9  2.493  2105  5247.765\n",
       "20  39.8  2.983  2084  6216.572\n",
       "23  39.8  3.234  2102  6797.868\n",
       "10  39.8  2.922  2121  6197.562\n",
       "11  39.7  2.499  2109  5270.391\n",
       "22  39.5  3.262  2127  6938.274\n",
       "35  39.4  2.971  2179  6473.809\n",
       "16  39.3  2.511  2159  5421.249\n",
       "1   39.3  2.970  2174  6456.780\n",
       "34  39.2  2.959  2173  6429.907\n",
       "36  39.2  2.980  2200  6556.000\n",
       "19  39.1  3.636  2184  7941.024\n",
       "38  39.1  3.413  2197  7498.361\n",
       "15  39.1  2.909  2067  6012.903\n",
       "26  39.0  2.912  2181  6351.072\n",
       "6   39.0  3.222  2210  7120.620\n",
       "8   38.9  2.838  2267  6433.746\n",
       "9   38.8  2.356  2205  5194.980\n",
       "5   38.6  3.040  2185  6642.400\n",
       "0   38.5  2.905  2157  6266.085\n",
       "29  38.4  3.010  2188  6585.880\n",
       "12  38.2  2.796  2108  5893.968\n",
       "30  38.2  3.273  2203  7210.419\n",
       "17  37.9  2.516  2257  5678.612\n",
       "32  37.5  3.009  2196  6607.764\n",
       "33  37.5  1.899  2093  3974.607\n",
       "31  37.4  1.901  2077  3948.377\n",
       "27  37.2  3.015  2186  6590.790\n",
       "3   22.4  2.511  2111  5300.721"
      ]
     },
     "execution_count": 92,
     "metadata": {},
     "output_type": "execute_result"
    }
   ],
   "source": [
    "data_sorted"
   ]
  },
  {
   "cell_type": "code",
   "execution_count": 63,
   "metadata": {
    "collapsed": false
   },
   "outputs": [
    {
     "data": {
      "text/html": [
       "<div>\n",
       "<table border=\"1\" class=\"dataframe\">\n",
       "  <thead>\n",
       "    <tr style=\"text-align: right;\">\n",
       "      <th></th>\n",
       "      <th>AGE</th>\n",
       "      <th>RATE</th>\n",
       "      <th>HRS</th>\n",
       "      <th>PAYABLE</th>\n",
       "    </tr>\n",
       "  </thead>\n",
       "  <tbody>\n",
       "    <tr>\n",
       "      <th>3</th>\n",
       "      <td>22.4</td>\n",
       "      <td>2.511</td>\n",
       "      <td>2111</td>\n",
       "      <td>5300.721</td>\n",
       "    </tr>\n",
       "    <tr>\n",
       "      <th>27</th>\n",
       "      <td>37.2</td>\n",
       "      <td>3.015</td>\n",
       "      <td>2186</td>\n",
       "      <td>6590.790</td>\n",
       "    </tr>\n",
       "    <tr>\n",
       "      <th>31</th>\n",
       "      <td>37.4</td>\n",
       "      <td>1.901</td>\n",
       "      <td>2077</td>\n",
       "      <td>3948.377</td>\n",
       "    </tr>\n",
       "    <tr>\n",
       "      <th>33</th>\n",
       "      <td>37.5</td>\n",
       "      <td>1.899</td>\n",
       "      <td>2093</td>\n",
       "      <td>3974.607</td>\n",
       "    </tr>\n",
       "    <tr>\n",
       "      <th>32</th>\n",
       "      <td>37.5</td>\n",
       "      <td>3.009</td>\n",
       "      <td>2196</td>\n",
       "      <td>6607.764</td>\n",
       "    </tr>\n",
       "    <tr>\n",
       "      <th>17</th>\n",
       "      <td>37.9</td>\n",
       "      <td>2.516</td>\n",
       "      <td>2257</td>\n",
       "      <td>5678.612</td>\n",
       "    </tr>\n",
       "    <tr>\n",
       "      <th>30</th>\n",
       "      <td>38.2</td>\n",
       "      <td>3.273</td>\n",
       "      <td>2203</td>\n",
       "      <td>7210.419</td>\n",
       "    </tr>\n",
       "    <tr>\n",
       "      <th>12</th>\n",
       "      <td>38.2</td>\n",
       "      <td>2.796</td>\n",
       "      <td>2108</td>\n",
       "      <td>5893.968</td>\n",
       "    </tr>\n",
       "    <tr>\n",
       "      <th>29</th>\n",
       "      <td>38.4</td>\n",
       "      <td>3.010</td>\n",
       "      <td>2188</td>\n",
       "      <td>6585.880</td>\n",
       "    </tr>\n",
       "    <tr>\n",
       "      <th>0</th>\n",
       "      <td>38.5</td>\n",
       "      <td>2.905</td>\n",
       "      <td>2157</td>\n",
       "      <td>6266.085</td>\n",
       "    </tr>\n",
       "    <tr>\n",
       "      <th>5</th>\n",
       "      <td>38.6</td>\n",
       "      <td>3.040</td>\n",
       "      <td>2185</td>\n",
       "      <td>6642.400</td>\n",
       "    </tr>\n",
       "    <tr>\n",
       "      <th>9</th>\n",
       "      <td>38.8</td>\n",
       "      <td>2.356</td>\n",
       "      <td>2205</td>\n",
       "      <td>5194.980</td>\n",
       "    </tr>\n",
       "    <tr>\n",
       "      <th>8</th>\n",
       "      <td>38.9</td>\n",
       "      <td>2.838</td>\n",
       "      <td>2267</td>\n",
       "      <td>6433.746</td>\n",
       "    </tr>\n",
       "    <tr>\n",
       "      <th>6</th>\n",
       "      <td>39.0</td>\n",
       "      <td>3.222</td>\n",
       "      <td>2210</td>\n",
       "      <td>7120.620</td>\n",
       "    </tr>\n",
       "    <tr>\n",
       "      <th>26</th>\n",
       "      <td>39.0</td>\n",
       "      <td>2.912</td>\n",
       "      <td>2181</td>\n",
       "      <td>6351.072</td>\n",
       "    </tr>\n",
       "    <tr>\n",
       "      <th>19</th>\n",
       "      <td>39.1</td>\n",
       "      <td>3.636</td>\n",
       "      <td>2184</td>\n",
       "      <td>7941.024</td>\n",
       "    </tr>\n",
       "    <tr>\n",
       "      <th>38</th>\n",
       "      <td>39.1</td>\n",
       "      <td>3.413</td>\n",
       "      <td>2197</td>\n",
       "      <td>7498.361</td>\n",
       "    </tr>\n",
       "    <tr>\n",
       "      <th>15</th>\n",
       "      <td>39.1</td>\n",
       "      <td>2.909</td>\n",
       "      <td>2067</td>\n",
       "      <td>6012.903</td>\n",
       "    </tr>\n",
       "    <tr>\n",
       "      <th>36</th>\n",
       "      <td>39.2</td>\n",
       "      <td>2.980</td>\n",
       "      <td>2200</td>\n",
       "      <td>6556.000</td>\n",
       "    </tr>\n",
       "    <tr>\n",
       "      <th>34</th>\n",
       "      <td>39.2</td>\n",
       "      <td>2.959</td>\n",
       "      <td>2173</td>\n",
       "      <td>6429.907</td>\n",
       "    </tr>\n",
       "    <tr>\n",
       "      <th>1</th>\n",
       "      <td>39.3</td>\n",
       "      <td>2.970</td>\n",
       "      <td>2174</td>\n",
       "      <td>6456.780</td>\n",
       "    </tr>\n",
       "    <tr>\n",
       "      <th>16</th>\n",
       "      <td>39.3</td>\n",
       "      <td>2.511</td>\n",
       "      <td>2159</td>\n",
       "      <td>5421.249</td>\n",
       "    </tr>\n",
       "    <tr>\n",
       "      <th>35</th>\n",
       "      <td>39.4</td>\n",
       "      <td>2.971</td>\n",
       "      <td>2179</td>\n",
       "      <td>6473.809</td>\n",
       "    </tr>\n",
       "    <tr>\n",
       "      <th>22</th>\n",
       "      <td>39.5</td>\n",
       "      <td>3.262</td>\n",
       "      <td>2127</td>\n",
       "      <td>6938.274</td>\n",
       "    </tr>\n",
       "    <tr>\n",
       "      <th>11</th>\n",
       "      <td>39.7</td>\n",
       "      <td>2.499</td>\n",
       "      <td>2109</td>\n",
       "      <td>5270.391</td>\n",
       "    </tr>\n",
       "    <tr>\n",
       "      <th>20</th>\n",
       "      <td>39.8</td>\n",
       "      <td>2.983</td>\n",
       "      <td>2084</td>\n",
       "      <td>6216.572</td>\n",
       "    </tr>\n",
       "    <tr>\n",
       "      <th>10</th>\n",
       "      <td>39.8</td>\n",
       "      <td>2.922</td>\n",
       "      <td>2121</td>\n",
       "      <td>6197.562</td>\n",
       "    </tr>\n",
       "    <tr>\n",
       "      <th>23</th>\n",
       "      <td>39.8</td>\n",
       "      <td>3.234</td>\n",
       "      <td>2102</td>\n",
       "      <td>6797.868</td>\n",
       "    </tr>\n",
       "    <tr>\n",
       "      <th>7</th>\n",
       "      <td>39.9</td>\n",
       "      <td>2.493</td>\n",
       "      <td>2105</td>\n",
       "      <td>5247.765</td>\n",
       "    </tr>\n",
       "    <tr>\n",
       "      <th>21</th>\n",
       "      <td>40.0</td>\n",
       "      <td>2.573</td>\n",
       "      <td>2051</td>\n",
       "      <td>5277.223</td>\n",
       "    </tr>\n",
       "    <tr>\n",
       "      <th>14</th>\n",
       "      <td>40.0</td>\n",
       "      <td>3.582</td>\n",
       "      <td>2174</td>\n",
       "      <td>7787.268</td>\n",
       "    </tr>\n",
       "    <tr>\n",
       "      <th>2</th>\n",
       "      <td>40.1</td>\n",
       "      <td>2.350</td>\n",
       "      <td>2062</td>\n",
       "      <td>4845.700</td>\n",
       "    </tr>\n",
       "    <tr>\n",
       "      <th>13</th>\n",
       "      <td>40.3</td>\n",
       "      <td>2.453</td>\n",
       "      <td>2047</td>\n",
       "      <td>5021.291</td>\n",
       "    </tr>\n",
       "    <tr>\n",
       "      <th>37</th>\n",
       "      <td>40.5</td>\n",
       "      <td>2.630</td>\n",
       "      <td>2052</td>\n",
       "      <td>5396.760</td>\n",
       "    </tr>\n",
       "    <tr>\n",
       "      <th>18</th>\n",
       "      <td>40.6</td>\n",
       "      <td>1.423</td>\n",
       "      <td>1985</td>\n",
       "      <td>2824.655</td>\n",
       "    </tr>\n",
       "    <tr>\n",
       "      <th>24</th>\n",
       "      <td>40.6</td>\n",
       "      <td>2.280</td>\n",
       "      <td>2098</td>\n",
       "      <td>4783.440</td>\n",
       "    </tr>\n",
       "    <tr>\n",
       "      <th>25</th>\n",
       "      <td>41.8</td>\n",
       "      <td>2.304</td>\n",
       "      <td>2042</td>\n",
       "      <td>4704.768</td>\n",
       "    </tr>\n",
       "    <tr>\n",
       "      <th>28</th>\n",
       "      <td>43.4</td>\n",
       "      <td>2.786</td>\n",
       "      <td>2108</td>\n",
       "      <td>5872.888</td>\n",
       "    </tr>\n",
       "    <tr>\n",
       "      <th>4</th>\n",
       "      <td>57.7</td>\n",
       "      <td>2.791</td>\n",
       "      <td>2134</td>\n",
       "      <td>5955.994</td>\n",
       "    </tr>\n",
       "  </tbody>\n",
       "</table>\n",
       "</div>"
      ],
      "text/plain": [
       "     AGE   RATE   HRS   PAYABLE\n",
       "3   22.4  2.511  2111  5300.721\n",
       "27  37.2  3.015  2186  6590.790\n",
       "31  37.4  1.901  2077  3948.377\n",
       "33  37.5  1.899  2093  3974.607\n",
       "32  37.5  3.009  2196  6607.764\n",
       "17  37.9  2.516  2257  5678.612\n",
       "30  38.2  3.273  2203  7210.419\n",
       "12  38.2  2.796  2108  5893.968\n",
       "29  38.4  3.010  2188  6585.880\n",
       "0   38.5  2.905  2157  6266.085\n",
       "5   38.6  3.040  2185  6642.400\n",
       "9   38.8  2.356  2205  5194.980\n",
       "8   38.9  2.838  2267  6433.746\n",
       "6   39.0  3.222  2210  7120.620\n",
       "26  39.0  2.912  2181  6351.072\n",
       "19  39.1  3.636  2184  7941.024\n",
       "38  39.1  3.413  2197  7498.361\n",
       "15  39.1  2.909  2067  6012.903\n",
       "36  39.2  2.980  2200  6556.000\n",
       "34  39.2  2.959  2173  6429.907\n",
       "1   39.3  2.970  2174  6456.780\n",
       "16  39.3  2.511  2159  5421.249\n",
       "35  39.4  2.971  2179  6473.809\n",
       "22  39.5  3.262  2127  6938.274\n",
       "11  39.7  2.499  2109  5270.391\n",
       "20  39.8  2.983  2084  6216.572\n",
       "10  39.8  2.922  2121  6197.562\n",
       "23  39.8  3.234  2102  6797.868\n",
       "7   39.9  2.493  2105  5247.765\n",
       "21  40.0  2.573  2051  5277.223\n",
       "14  40.0  3.582  2174  7787.268\n",
       "2   40.1  2.350  2062  4845.700\n",
       "13  40.3  2.453  2047  5021.291\n",
       "37  40.5  2.630  2052  5396.760\n",
       "18  40.6  1.423  1985  2824.655\n",
       "24  40.6  2.280  2098  4783.440\n",
       "25  41.8  2.304  2042  4704.768\n",
       "28  43.4  2.786  2108  5872.888\n",
       "4   57.7  2.791  2134  5955.994"
      ]
     },
     "execution_count": 63,
     "metadata": {},
     "output_type": "execute_result"
    }
   ],
   "source": [
    "data_sorted"
   ]
  },
  {
   "cell_type": "code",
   "execution_count": 86,
   "metadata": {
    "collapsed": false
   },
   "outputs": [
    {
     "data": {
      "image/png": "[encoded data removed]",
      "text/plain": [
       "<matplotlib.figure.Figure at 0x1b6d8c1f6a0>"
      ]
     },
     "metadata": {},
     "output_type": "display_data"
    }
   ],
   "source": [
    "data_sorted['AGE'].hist()\n",
    "plt.show()"
   ]
  },
  {
   "cell_type": "code",
   "execution_count": 65,
   "metadata": {
    "collapsed": false
   },
   "outputs": [
    {
     "data": {
      "text/plain": [
       "39.2"
      ]
     },
     "execution_count": 65,
     "metadata": {},
     "output_type": "execute_result"
    }
   ],
   "source": [
    "data_sorted['AGE'].median()"
   ]
  },
  {
   "cell_type": "code",
   "execution_count": 71,
   "metadata": {
    "collapsed": false
   },
   "outputs": [
    {
     "data": {
      "text/html": [
       "<div>\n",
       "<table border=\"1\" class=\"dataframe\">\n",
       "  <thead>\n",
       "    <tr style=\"text-align: right;\">\n",
       "      <th></th>\n",
       "      <th>AGE</th>\n",
       "      <th>RATE</th>\n",
       "      <th>HRS</th>\n",
       "      <th>PAYABLE</th>\n",
       "    </tr>\n",
       "  </thead>\n",
       "  <tbody>\n",
       "    <tr>\n",
       "      <th>1</th>\n",
       "      <td>39.3</td>\n",
       "      <td>2.970</td>\n",
       "      <td>2174</td>\n",
       "      <td>6456.780</td>\n",
       "    </tr>\n",
       "    <tr>\n",
       "      <th>16</th>\n",
       "      <td>39.3</td>\n",
       "      <td>2.511</td>\n",
       "      <td>2159</td>\n",
       "      <td>5421.249</td>\n",
       "    </tr>\n",
       "    <tr>\n",
       "      <th>35</th>\n",
       "      <td>39.4</td>\n",
       "      <td>2.971</td>\n",
       "      <td>2179</td>\n",
       "      <td>6473.809</td>\n",
       "    </tr>\n",
       "    <tr>\n",
       "      <th>22</th>\n",
       "      <td>39.5</td>\n",
       "      <td>3.262</td>\n",
       "      <td>2127</td>\n",
       "      <td>6938.274</td>\n",
       "    </tr>\n",
       "    <tr>\n",
       "      <th>11</th>\n",
       "      <td>39.7</td>\n",
       "      <td>2.499</td>\n",
       "      <td>2109</td>\n",
       "      <td>5270.391</td>\n",
       "    </tr>\n",
       "    <tr>\n",
       "      <th>20</th>\n",
       "      <td>39.8</td>\n",
       "      <td>2.983</td>\n",
       "      <td>2084</td>\n",
       "      <td>6216.572</td>\n",
       "    </tr>\n",
       "    <tr>\n",
       "      <th>10</th>\n",
       "      <td>39.8</td>\n",
       "      <td>2.922</td>\n",
       "      <td>2121</td>\n",
       "      <td>6197.562</td>\n",
       "    </tr>\n",
       "    <tr>\n",
       "      <th>23</th>\n",
       "      <td>39.8</td>\n",
       "      <td>3.234</td>\n",
       "      <td>2102</td>\n",
       "      <td>6797.868</td>\n",
       "    </tr>\n",
       "    <tr>\n",
       "      <th>7</th>\n",
       "      <td>39.9</td>\n",
       "      <td>2.493</td>\n",
       "      <td>2105</td>\n",
       "      <td>5247.765</td>\n",
       "    </tr>\n",
       "    <tr>\n",
       "      <th>21</th>\n",
       "      <td>40.0</td>\n",
       "      <td>2.573</td>\n",
       "      <td>2051</td>\n",
       "      <td>5277.223</td>\n",
       "    </tr>\n",
       "    <tr>\n",
       "      <th>14</th>\n",
       "      <td>40.0</td>\n",
       "      <td>3.582</td>\n",
       "      <td>2174</td>\n",
       "      <td>7787.268</td>\n",
       "    </tr>\n",
       "    <tr>\n",
       "      <th>2</th>\n",
       "      <td>40.1</td>\n",
       "      <td>2.350</td>\n",
       "      <td>2062</td>\n",
       "      <td>4845.700</td>\n",
       "    </tr>\n",
       "    <tr>\n",
       "      <th>13</th>\n",
       "      <td>40.3</td>\n",
       "      <td>2.453</td>\n",
       "      <td>2047</td>\n",
       "      <td>5021.291</td>\n",
       "    </tr>\n",
       "    <tr>\n",
       "      <th>37</th>\n",
       "      <td>40.5</td>\n",
       "      <td>2.630</td>\n",
       "      <td>2052</td>\n",
       "      <td>5396.760</td>\n",
       "    </tr>\n",
       "    <tr>\n",
       "      <th>18</th>\n",
       "      <td>40.6</td>\n",
       "      <td>1.423</td>\n",
       "      <td>1985</td>\n",
       "      <td>2824.655</td>\n",
       "    </tr>\n",
       "    <tr>\n",
       "      <th>24</th>\n",
       "      <td>40.6</td>\n",
       "      <td>2.280</td>\n",
       "      <td>2098</td>\n",
       "      <td>4783.440</td>\n",
       "    </tr>\n",
       "    <tr>\n",
       "      <th>25</th>\n",
       "      <td>41.8</td>\n",
       "      <td>2.304</td>\n",
       "      <td>2042</td>\n",
       "      <td>4704.768</td>\n",
       "    </tr>\n",
       "    <tr>\n",
       "      <th>28</th>\n",
       "      <td>43.4</td>\n",
       "      <td>2.786</td>\n",
       "      <td>2108</td>\n",
       "      <td>5872.888</td>\n",
       "    </tr>\n",
       "    <tr>\n",
       "      <th>4</th>\n",
       "      <td>57.7</td>\n",
       "      <td>2.791</td>\n",
       "      <td>2134</td>\n",
       "      <td>5955.994</td>\n",
       "    </tr>\n",
       "  </tbody>\n",
       "</table>\n",
       "</div>"
      ],
      "text/plain": [
       "     AGE   RATE   HRS   PAYABLE\n",
       "1   39.3  2.970  2174  6456.780\n",
       "16  39.3  2.511  2159  5421.249\n",
       "35  39.4  2.971  2179  6473.809\n",
       "22  39.5  3.262  2127  6938.274\n",
       "11  39.7  2.499  2109  5270.391\n",
       "20  39.8  2.983  2084  6216.572\n",
       "10  39.8  2.922  2121  6197.562\n",
       "23  39.8  3.234  2102  6797.868\n",
       "7   39.9  2.493  2105  5247.765\n",
       "21  40.0  2.573  2051  5277.223\n",
       "14  40.0  3.582  2174  7787.268\n",
       "2   40.1  2.350  2062  4845.700\n",
       "13  40.3  2.453  2047  5021.291\n",
       "37  40.5  2.630  2052  5396.760\n",
       "18  40.6  1.423  1985  2824.655\n",
       "24  40.6  2.280  2098  4783.440\n",
       "25  41.8  2.304  2042  4704.768\n",
       "28  43.4  2.786  2108  5872.888\n",
       "4   57.7  2.791  2134  5955.994"
      ]
     },
     "execution_count": 71,
     "metadata": {},
     "output_type": "execute_result"
    }
   ],
   "source": [
    "age_above = data_sorted[data_sorted.AGE > 39.2]\n",
    "age_above"
   ]
  },
  {
   "cell_type": "code",
   "execution_count": 73,
   "metadata": {
    "collapsed": false
   },
   "outputs": [
    {
     "data": {
      "text/html": [
       "<div>\n",
       "<table border=\"1\" class=\"dataframe\">\n",
       "  <thead>\n",
       "    <tr style=\"text-align: right;\">\n",
       "      <th></th>\n",
       "      <th>AGE</th>\n",
       "      <th>RATE</th>\n",
       "      <th>HRS</th>\n",
       "      <th>PAYABLE</th>\n",
       "    </tr>\n",
       "  </thead>\n",
       "  <tbody>\n",
       "    <tr>\n",
       "      <th>3</th>\n",
       "      <td>22.4</td>\n",
       "      <td>2.511</td>\n",
       "      <td>2111</td>\n",
       "      <td>5300.721</td>\n",
       "    </tr>\n",
       "    <tr>\n",
       "      <th>27</th>\n",
       "      <td>37.2</td>\n",
       "      <td>3.015</td>\n",
       "      <td>2186</td>\n",
       "      <td>6590.790</td>\n",
       "    </tr>\n",
       "    <tr>\n",
       "      <th>31</th>\n",
       "      <td>37.4</td>\n",
       "      <td>1.901</td>\n",
       "      <td>2077</td>\n",
       "      <td>3948.377</td>\n",
       "    </tr>\n",
       "    <tr>\n",
       "      <th>33</th>\n",
       "      <td>37.5</td>\n",
       "      <td>1.899</td>\n",
       "      <td>2093</td>\n",
       "      <td>3974.607</td>\n",
       "    </tr>\n",
       "    <tr>\n",
       "      <th>32</th>\n",
       "      <td>37.5</td>\n",
       "      <td>3.009</td>\n",
       "      <td>2196</td>\n",
       "      <td>6607.764</td>\n",
       "    </tr>\n",
       "    <tr>\n",
       "      <th>17</th>\n",
       "      <td>37.9</td>\n",
       "      <td>2.516</td>\n",
       "      <td>2257</td>\n",
       "      <td>5678.612</td>\n",
       "    </tr>\n",
       "    <tr>\n",
       "      <th>30</th>\n",
       "      <td>38.2</td>\n",
       "      <td>3.273</td>\n",
       "      <td>2203</td>\n",
       "      <td>7210.419</td>\n",
       "    </tr>\n",
       "    <tr>\n",
       "      <th>12</th>\n",
       "      <td>38.2</td>\n",
       "      <td>2.796</td>\n",
       "      <td>2108</td>\n",
       "      <td>5893.968</td>\n",
       "    </tr>\n",
       "    <tr>\n",
       "      <th>29</th>\n",
       "      <td>38.4</td>\n",
       "      <td>3.010</td>\n",
       "      <td>2188</td>\n",
       "      <td>6585.880</td>\n",
       "    </tr>\n",
       "    <tr>\n",
       "      <th>0</th>\n",
       "      <td>38.5</td>\n",
       "      <td>2.905</td>\n",
       "      <td>2157</td>\n",
       "      <td>6266.085</td>\n",
       "    </tr>\n",
       "    <tr>\n",
       "      <th>5</th>\n",
       "      <td>38.6</td>\n",
       "      <td>3.040</td>\n",
       "      <td>2185</td>\n",
       "      <td>6642.400</td>\n",
       "    </tr>\n",
       "    <tr>\n",
       "      <th>9</th>\n",
       "      <td>38.8</td>\n",
       "      <td>2.356</td>\n",
       "      <td>2205</td>\n",
       "      <td>5194.980</td>\n",
       "    </tr>\n",
       "    <tr>\n",
       "      <th>8</th>\n",
       "      <td>38.9</td>\n",
       "      <td>2.838</td>\n",
       "      <td>2267</td>\n",
       "      <td>6433.746</td>\n",
       "    </tr>\n",
       "    <tr>\n",
       "      <th>6</th>\n",
       "      <td>39.0</td>\n",
       "      <td>3.222</td>\n",
       "      <td>2210</td>\n",
       "      <td>7120.620</td>\n",
       "    </tr>\n",
       "    <tr>\n",
       "      <th>26</th>\n",
       "      <td>39.0</td>\n",
       "      <td>2.912</td>\n",
       "      <td>2181</td>\n",
       "      <td>6351.072</td>\n",
       "    </tr>\n",
       "    <tr>\n",
       "      <th>19</th>\n",
       "      <td>39.1</td>\n",
       "      <td>3.636</td>\n",
       "      <td>2184</td>\n",
       "      <td>7941.024</td>\n",
       "    </tr>\n",
       "    <tr>\n",
       "      <th>38</th>\n",
       "      <td>39.1</td>\n",
       "      <td>3.413</td>\n",
       "      <td>2197</td>\n",
       "      <td>7498.361</td>\n",
       "    </tr>\n",
       "    <tr>\n",
       "      <th>15</th>\n",
       "      <td>39.1</td>\n",
       "      <td>2.909</td>\n",
       "      <td>2067</td>\n",
       "      <td>6012.903</td>\n",
       "    </tr>\n",
       "    <tr>\n",
       "      <th>36</th>\n",
       "      <td>39.2</td>\n",
       "      <td>2.980</td>\n",
       "      <td>2200</td>\n",
       "      <td>6556.000</td>\n",
       "    </tr>\n",
       "    <tr>\n",
       "      <th>34</th>\n",
       "      <td>39.2</td>\n",
       "      <td>2.959</td>\n",
       "      <td>2173</td>\n",
       "      <td>6429.907</td>\n",
       "    </tr>\n",
       "  </tbody>\n",
       "</table>\n",
       "</div>"
      ],
      "text/plain": [
       "     AGE   RATE   HRS   PAYABLE\n",
       "3   22.4  2.511  2111  5300.721\n",
       "27  37.2  3.015  2186  6590.790\n",
       "31  37.4  1.901  2077  3948.377\n",
       "33  37.5  1.899  2093  3974.607\n",
       "32  37.5  3.009  2196  6607.764\n",
       "17  37.9  2.516  2257  5678.612\n",
       "30  38.2  3.273  2203  7210.419\n",
       "12  38.2  2.796  2108  5893.968\n",
       "29  38.4  3.010  2188  6585.880\n",
       "0   38.5  2.905  2157  6266.085\n",
       "5   38.6  3.040  2185  6642.400\n",
       "9   38.8  2.356  2205  5194.980\n",
       "8   38.9  2.838  2267  6433.746\n",
       "6   39.0  3.222  2210  7120.620\n",
       "26  39.0  2.912  2181  6351.072\n",
       "19  39.1  3.636  2184  7941.024\n",
       "38  39.1  3.413  2197  7498.361\n",
       "15  39.1  2.909  2067  6012.903\n",
       "36  39.2  2.980  2200  6556.000\n",
       "34  39.2  2.959  2173  6429.907"
      ]
     },
     "execution_count": 73,
     "metadata": {},
     "output_type": "execute_result"
    }
   ],
   "source": [
    "age_below = data_sorted[data_sorted.AGE <= 39.2]\n",
    "age_below"
   ]
  },
  {
   "cell_type": "code",
   "execution_count": 72,
   "metadata": {
    "collapsed": false
   },
   "outputs": [
    {
     "data": {
      "text/plain": [
       "19"
      ]
     },
     "execution_count": 72,
     "metadata": {},
     "output_type": "execute_result"
    }
   ],
   "source": [
    "len(age_above)"
   ]
  },
  {
   "cell_type": "code",
   "execution_count": 74,
   "metadata": {
    "collapsed": false
   },
   "outputs": [
    {
     "data": {
      "text/plain": [
       "AGE        20\n",
       "RATE       20\n",
       "HRS        20\n",
       "PAYABLE    20\n",
       "dtype: int64"
      ]
     },
     "execution_count": 74,
     "metadata": {},
     "output_type": "execute_result"
    }
   ],
   "source": [
    "age_below.count()"
   ]
  },
  {
   "cell_type": "code",
   "execution_count": 87,
   "metadata": {
    "collapsed": false
   },
   "outputs": [
    {
     "data": {
      "image/png": "[encoded data removed]",
      "text/plain": [
       "<matplotlib.figure.Figure at 0x1b6d900f978>"
      ]
     },
     "metadata": {},
     "output_type": "display_data"
    }
   ],
   "source": [
    "age_above.hist()\n",
    "plt.show()"
   ]
  },
  {
   "cell_type": "code",
   "execution_count": 76,
   "metadata": {
    "collapsed": false
   },
   "outputs": [
    {
     "data": {
      "text/plain": [
       "2.685105263157896"
      ]
     },
     "execution_count": 76,
     "metadata": {},
     "output_type": "execute_result"
    }
   ],
   "source": [
    "age_above['RATE'].mean()"
   ]
  },
  {
   "cell_type": "code",
   "execution_count": 77,
   "metadata": {
    "collapsed": false
   },
   "outputs": [
    {
     "data": {
      "text/plain": [
       "2.8550000000000004"
      ]
     },
     "execution_count": 77,
     "metadata": {},
     "output_type": "execute_result"
    }
   ],
   "source": [
    "age_below['RATE'].mean()"
   ]
  },
  {
   "cell_type": "code",
   "execution_count": 78,
   "metadata": {
    "collapsed": false
   },
   "outputs": [
    {
     "data": {
      "text/plain": [
       "2105.0"
      ]
     },
     "execution_count": 78,
     "metadata": {},
     "output_type": "execute_result"
    }
   ],
   "source": [
    "age_above['HRS'].median()"
   ]
  },
  {
   "cell_type": "code",
   "execution_count": 79,
   "metadata": {
    "collapsed": false
   },
   "outputs": [
    {
     "data": {
      "text/plain": [
       "2185.5"
      ]
     },
     "execution_count": 79,
     "metadata": {},
     "output_type": "execute_result"
    }
   ],
   "source": [
    "age_below['HRS'].median()"
   ]
  },
  {
   "cell_type": "code",
   "execution_count": 96,
   "metadata": {
    "collapsed": false
   },
   "outputs": [
    {
     "data": {
      "text/plain": [
       "5657.381947368421"
      ]
     },
     "execution_count": 96,
     "metadata": {},
     "output_type": "execute_result"
    }
   ],
   "source": [
    "age_above['PAYABLE'].mean()"
   ]
  },
  {
   "cell_type": "code",
   "execution_count": 97,
   "metadata": {
    "collapsed": false
   },
   "outputs": [
    {
     "data": {
      "text/plain": [
       "5421.249000000001"
      ]
     },
     "execution_count": 97,
     "metadata": {},
     "output_type": "execute_result"
    }
   ],
   "source": [
    "age_above['PAYABLE'].median()"
   ]
  },
  {
   "cell_type": "code",
   "execution_count": 89,
   "metadata": {
    "collapsed": false,
    "scrolled": true
   },
   "outputs": [
    {
     "data": {
      "text/plain": [
       "194"
      ]
     },
     "execution_count": 89,
     "metadata": {},
     "output_type": "execute_result"
    }
   ],
   "source": [
    "age_above_range = age_above['HRS'].max() - age_above['HRS'].min()\n",
    "age_above_range"
   ]
  },
  {
   "cell_type": "code",
   "execution_count": 90,
   "metadata": {
    "collapsed": false
   },
   "outputs": [
    {
     "data": {
      "text/plain": [
       "200"
      ]
     },
     "execution_count": 90,
     "metadata": {},
     "output_type": "execute_result"
    }
   ],
   "source": [
    "age_below_range = age_below['HRS'].max() - age_below['HRS'].min()\n",
    "age_below_range"
   ]
  },
  {
   "cell_type": "code",
   "execution_count": 94,
   "metadata": {
    "collapsed": false
   },
   "outputs": [
    {
     "data": {
      "text/plain": [
       "4962.6129999999994"
      ]
     },
     "execution_count": 94,
     "metadata": {},
     "output_type": "execute_result"
    }
   ],
   "source": [
    "age_above_range = age_above['PAYABLE'].max() - age_above['PAYABLE'].min()\n",
    "age_above_range"
   ]
  },
  {
   "cell_type": "code",
   "execution_count": 95,
   "metadata": {
    "collapsed": false
   },
   "outputs": [
    {
     "data": {
      "text/plain": [
       "3992.6470000000004"
      ]
     },
     "execution_count": 95,
     "metadata": {},
     "output_type": "execute_result"
    }
   ],
   "source": [
    "age_below_range = age_below['PAYABLE'].max() - age_below['PAYABLE'].min()\n",
    "age_below_range"
   ]
  },
  {
   "cell_type": "code",
   "execution_count": 83,
   "metadata": {
    "collapsed": false
   },
   "outputs": [
    {
     "data": {
      "text/html": [
       "<div>\n",
       "<table border=\"1\" class=\"dataframe\">\n",
       "  <thead>\n",
       "    <tr style=\"text-align: right;\">\n",
       "      <th></th>\n",
       "      <th>AGE</th>\n",
       "      <th>RATE</th>\n",
       "      <th>HRS</th>\n",
       "      <th>PAYABLE</th>\n",
       "    </tr>\n",
       "  </thead>\n",
       "  <tbody>\n",
       "    <tr>\n",
       "      <th>count</th>\n",
       "      <td>19.000000</td>\n",
       "      <td>19.000000</td>\n",
       "      <td>19.000000</td>\n",
       "      <td>19.000000</td>\n",
       "    </tr>\n",
       "    <tr>\n",
       "      <th>mean</th>\n",
       "      <td>41.131579</td>\n",
       "      <td>2.685105</td>\n",
       "      <td>2100.684211</td>\n",
       "      <td>5657.381947</td>\n",
       "    </tr>\n",
       "    <tr>\n",
       "      <th>std</th>\n",
       "      <td>4.127422</td>\n",
       "      <td>0.468660</td>\n",
       "      <td>52.160066</td>\n",
       "      <td>1076.730607</td>\n",
       "    </tr>\n",
       "    <tr>\n",
       "      <th>min</th>\n",
       "      <td>39.300000</td>\n",
       "      <td>1.423000</td>\n",
       "      <td>1985.000000</td>\n",
       "      <td>2824.655000</td>\n",
       "    </tr>\n",
       "    <tr>\n",
       "      <th>25%</th>\n",
       "      <td>39.750000</td>\n",
       "      <td>2.473000</td>\n",
       "      <td>2057.000000</td>\n",
       "      <td>5134.528000</td>\n",
       "    </tr>\n",
       "    <tr>\n",
       "      <th>50%</th>\n",
       "      <td>40.000000</td>\n",
       "      <td>2.630000</td>\n",
       "      <td>2105.000000</td>\n",
       "      <td>5421.249000</td>\n",
       "    </tr>\n",
       "    <tr>\n",
       "      <th>75%</th>\n",
       "      <td>40.550000</td>\n",
       "      <td>2.970500</td>\n",
       "      <td>2130.500000</td>\n",
       "      <td>6336.676000</td>\n",
       "    </tr>\n",
       "    <tr>\n",
       "      <th>max</th>\n",
       "      <td>57.700000</td>\n",
       "      <td>3.582000</td>\n",
       "      <td>2179.000000</td>\n",
       "      <td>7787.268000</td>\n",
       "    </tr>\n",
       "  </tbody>\n",
       "</table>\n",
       "</div>"
      ],
      "text/plain": [
       "             AGE       RATE          HRS      PAYABLE\n",
       "count  19.000000  19.000000    19.000000    19.000000\n",
       "mean   41.131579   2.685105  2100.684211  5657.381947\n",
       "std     4.127422   0.468660    52.160066  1076.730607\n",
       "min    39.300000   1.423000  1985.000000  2824.655000\n",
       "25%    39.750000   2.473000  2057.000000  5134.528000\n",
       "50%    40.000000   2.630000  2105.000000  5421.249000\n",
       "75%    40.550000   2.970500  2130.500000  6336.676000\n",
       "max    57.700000   3.582000  2179.000000  7787.268000"
      ]
     },
     "execution_count": 83,
     "metadata": {},
     "output_type": "execute_result"
    }
   ],
   "source": [
    "age_above.describe()"
   ]
  },
  {
   "cell_type": "code",
   "execution_count": 84,
   "metadata": {
    "collapsed": false
   },
   "outputs": [
    {
     "data": {
      "text/html": [
       "<div>\n",
       "<table border=\"1\" class=\"dataframe\">\n",
       "  <thead>\n",
       "    <tr style=\"text-align: right;\">\n",
       "      <th></th>\n",
       "      <th>AGE</th>\n",
       "      <th>RATE</th>\n",
       "      <th>HRS</th>\n",
       "      <th>PAYABLE</th>\n",
       "    </tr>\n",
       "  </thead>\n",
       "  <tbody>\n",
       "    <tr>\n",
       "      <th>count</th>\n",
       "      <td>20.000000</td>\n",
       "      <td>20.000000</td>\n",
       "      <td>20.000000</td>\n",
       "      <td>20.000000</td>\n",
       "    </tr>\n",
       "    <tr>\n",
       "      <th>mean</th>\n",
       "      <td>37.660000</td>\n",
       "      <td>2.855000</td>\n",
       "      <td>2172.250000</td>\n",
       "      <td>6211.911800</td>\n",
       "    </tr>\n",
       "    <tr>\n",
       "      <th>std</th>\n",
       "      <td>3.651734</td>\n",
       "      <td>0.440304</td>\n",
       "      <td>54.727916</td>\n",
       "      <td>1019.521043</td>\n",
       "    </tr>\n",
       "    <tr>\n",
       "      <th>min</th>\n",
       "      <td>22.400000</td>\n",
       "      <td>1.899000</td>\n",
       "      <td>2067.000000</td>\n",
       "      <td>3948.377000</td>\n",
       "    </tr>\n",
       "    <tr>\n",
       "      <th>25%</th>\n",
       "      <td>37.800000</td>\n",
       "      <td>2.726000</td>\n",
       "      <td>2145.500000</td>\n",
       "      <td>5840.129000</td>\n",
       "    </tr>\n",
       "    <tr>\n",
       "      <th>50%</th>\n",
       "      <td>38.550000</td>\n",
       "      <td>2.935500</td>\n",
       "      <td>2185.500000</td>\n",
       "      <td>6431.826500</td>\n",
       "    </tr>\n",
       "    <tr>\n",
       "      <th>75%</th>\n",
       "      <td>39.025000</td>\n",
       "      <td>3.021250</td>\n",
       "      <td>2200.750000</td>\n",
       "      <td>6616.423000</td>\n",
       "    </tr>\n",
       "    <tr>\n",
       "      <th>max</th>\n",
       "      <td>39.200000</td>\n",
       "      <td>3.636000</td>\n",
       "      <td>2267.000000</td>\n",
       "      <td>7941.024000</td>\n",
       "    </tr>\n",
       "  </tbody>\n",
       "</table>\n",
       "</div>"
      ],
      "text/plain": [
       "             AGE       RATE          HRS      PAYABLE\n",
       "count  20.000000  20.000000    20.000000    20.000000\n",
       "mean   37.660000   2.855000  2172.250000  6211.911800\n",
       "std     3.651734   0.440304    54.727916  1019.521043\n",
       "min    22.400000   1.899000  2067.000000  3948.377000\n",
       "25%    37.800000   2.726000  2145.500000  5840.129000\n",
       "50%    38.550000   2.935500  2185.500000  6431.826500\n",
       "75%    39.025000   3.021250  2200.750000  6616.423000\n",
       "max    39.200000   3.636000  2267.000000  7941.024000"
      ]
     },
     "execution_count": 84,
     "metadata": {},
     "output_type": "execute_result"
    }
   ],
   "source": [
    "age_below.describe()"
   ]
  },
  {
   "cell_type": "code",
   "execution_count": null,
   "metadata": {
    "collapsed": true
   },
   "outputs": [],
   "source": []
  }
 ],
 "metadata": {
  "kernelspec": {
   "display_name": "Python [conda root]",
   "language": "python",
   "name": "conda-root-py"
  },
  "language_info": {
   "codemirror_mode": {
    "name": "ipython",
    "version": 3
   },
   "file_extension": ".py",
   "mimetype": "text/x-python",
   "name": "python",
   "nbconvert_exporter": "python",
   "pygments_lexer": "ipython3",
   "version": "3.5.2"
  }
 },
 "nbformat": 4,
 "nbformat_minor": 1
}
