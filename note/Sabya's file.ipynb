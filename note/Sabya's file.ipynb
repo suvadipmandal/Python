{
 "cells": [
  {
   "cell_type": "code",
   "execution_count": 1,
   "metadata": {},
   "outputs": [
    {
     "name": "stdout",
     "output_type": "stream",
     "text": [
      "[2, 3, 4, 5, 6, 7, 8, 9]\n"
     ]
    },
    {
     "data": {
      "text/plain": [
       "'hi'"
      ]
     },
     "execution_count": 1,
     "metadata": {},
     "output_type": "execute_result"
    }
   ],
   "source": [
    "# print(\"hi\")\n",
    "a=\"      hi      \"\n",
    "print(list(range(2,10)))\n",
    "a.rstrip()\n",
    "a.lstrip()\n",
    "a.strip()"
   ]
  },
  {
   "cell_type": "code",
   "execution_count": 11,
   "metadata": {},
   "outputs": [
    {
     "name": "stdout",
     "output_type": "stream",
     "text": [
      "      hi      \n"
     ]
    },
    {
     "data": {
      "text/plain": [
       "str"
      ]
     },
     "execution_count": 11,
     "metadata": {},
     "output_type": "execute_result"
    }
   ],
   "source": [
    "A=a\n",
    "print(A)\n",
    "type(A)"
   ]
  },
  {
   "cell_type": "code",
   "execution_count": 12,
   "metadata": {},
   "outputs": [
    {
     "data": {
      "text/plain": [
       "float"
      ]
     },
     "execution_count": 12,
     "metadata": {},
     "output_type": "execute_result"
    }
   ],
   "source": [
    "a=1.5\n",
    "b=2.5\n",
    "c=a+b\n",
    "type(c)"
   ]
  },
  {
   "cell_type": "code",
   "execution_count": 13,
   "metadata": {},
   "outputs": [
    {
     "name": "stdout",
     "output_type": "stream",
     "text": [
      "5.0\n"
     ]
    },
    {
     "data": {
      "text/plain": [
       "float"
      ]
     },
     "execution_count": 13,
     "metadata": {},
     "output_type": "execute_result"
    }
   ],
   "source": [
    "x=float(5)\n",
    "print(x)\n",
    "type(x)"
   ]
  },
  {
   "cell_type": "code",
   "execution_count": 14,
   "metadata": {},
   "outputs": [
    {
     "name": "stdout",
     "output_type": "stream",
     "text": [
      "1\n"
     ]
    },
    {
     "data": {
      "text/plain": [
       "int"
      ]
     },
     "execution_count": 14,
     "metadata": {},
     "output_type": "execute_result"
    }
   ],
   "source": [
    "y=int(1.6)\n",
    "print(y)\n",
    "type(y)"
   ]
  },
  {
   "cell_type": "code",
   "execution_count": 17,
   "metadata": {},
   "outputs": [
    {
     "name": "stdout",
     "output_type": "stream",
     "text": [
      "Sabyasachi  Roy\n"
     ]
    }
   ],
   "source": [
    "surname=\"Roy\"\n",
    "name=\"Sabyasachi\"\n",
    "fullname=name+\"  \"+surname\n",
    "print(fullname)"
   ]
  },
  {
   "cell_type": "code",
   "execution_count": 19,
   "metadata": {},
   "outputs": [
    {
     "name": "stdout",
     "output_type": "stream",
     "text": [
      "(3+2j)\n"
     ]
    },
    {
     "data": {
      "text/plain": [
       "complex"
      ]
     },
     "execution_count": 19,
     "metadata": {},
     "output_type": "execute_result"
    }
   ],
   "source": [
    "x=3+2j\n",
    "print(x)\n",
    "type(x)"
   ]
  },
  {
   "cell_type": "code",
   "execution_count": 23,
   "metadata": {},
   "outputs": [
    {
     "name": "stdout",
     "output_type": "stream",
     "text": [
      "3.0\n",
      "2.0\n",
      "(3-2j)\n"
     ]
    },
    {
     "data": {
      "text/plain": [
       "(5+12j)"
      ]
     },
     "execution_count": 23,
     "metadata": {},
     "output_type": "execute_result"
    }
   ],
   "source": [
    "print(x.real)\n",
    "print(x.imag)\n",
    "print(x.conjugate())\n",
    "pow(x,2)"
   ]
  },
  {
   "cell_type": "code",
   "execution_count": 27,
   "metadata": {},
   "outputs": [
    {
     "name": "stdout",
     "output_type": "stream",
     "text": [
      "False\n"
     ]
    },
    {
     "data": {
      "text/plain": [
       "bool"
      ]
     },
     "execution_count": 27,
     "metadata": {},
     "output_type": "execute_result"
    }
   ],
   "source": [
    "s_boolean=True\n",
    "print(5>10)\n",
    "type(s_boolean)\n"
   ]
  },
  {
   "cell_type": "code",
   "execution_count": 28,
   "metadata": {},
   "outputs": [],
   "source": [
    "a=2\n",
    "b=2"
   ]
  },
  {
   "cell_type": "code",
   "execution_count": 29,
   "metadata": {},
   "outputs": [
    {
     "data": {
      "text/plain": [
       "True"
      ]
     },
     "execution_count": 29,
     "metadata": {},
     "output_type": "execute_result"
    }
   ],
   "source": [
    "a is b"
   ]
  },
  {
   "cell_type": "code",
   "execution_count": 30,
   "metadata": {},
   "outputs": [
    {
     "data": {
      "text/plain": [
       "False"
      ]
     },
     "execution_count": 30,
     "metadata": {},
     "output_type": "execute_result"
    }
   ],
   "source": [
    "a=2.0\n",
    "b=2.0\n",
    "a is b"
   ]
  },
  {
   "cell_type": "code",
   "execution_count": 32,
   "metadata": {},
   "outputs": [
    {
     "name": "stdout",
     "output_type": "stream",
     "text": [
      "1\n"
     ]
    },
    {
     "data": {
      "text/plain": [
       "10"
      ]
     },
     "execution_count": 32,
     "metadata": {},
     "output_type": "execute_result"
    }
   ],
   "source": [
    "a,b,c,d=1,5,8,10\n",
    "print(a)\n",
    "b\n",
    "c\n",
    "d"
   ]
  },
  {
   "cell_type": "code",
   "execution_count": 46,
   "metadata": {},
   "outputs": [
    {
     "name": "stdout",
     "output_type": "stream",
     "text": [
      "[1, 2, 3, 4, 5]\n",
      "(1, 2, 3, 4)\n",
      "{1, 2, 3, 4, 5}\n",
      "{1: 2, 3: 4, 5: 5}\n"
     ]
    }
   ],
   "source": [
    "list=[1,2,3,4,5]\n",
    "print(list)\n",
    "tuples=(1,2,3,4)\n",
    "print(tuples)\n",
    "set={1,2,3,4,5}\n",
    "print(set)\n",
    "dict={1:2,3:4,5:5}\n",
    "print(dict)"
   ]
  },
  {
   "cell_type": "code",
   "execution_count": 41,
   "metadata": {},
   "outputs": [
    {
     "name": "stdout",
     "output_type": "stream",
     "text": [
      "[1, 5, 8, 9]\n",
      "8\n",
      "[1, 5, 8]\n"
     ]
    },
    {
     "data": {
      "text/plain": [
       "[1, 8]"
      ]
     },
     "execution_count": 41,
     "metadata": {},
     "output_type": "execute_result"
    }
   ],
   "source": [
    "l=[]\n",
    "l.append(1)\n",
    "l.append(5)\n",
    "l.append(8)\n",
    "l.append(9)\n",
    "print(l)\n",
    "print(l[2])\n",
    "print(l[0:3])\n",
    "l[0:3:2]"
   ]
  },
  {
   "cell_type": "code",
   "execution_count": 43,
   "metadata": {},
   "outputs": [
    {
     "name": "stdout",
     "output_type": "stream",
     "text": [
      "[100, 'hellogello', True, 20.5, (2+3j)]\n"
     ]
    }
   ],
   "source": [
    "a=100\n",
    "b=\"hello\"+\"gello\"\n",
    "c=True\n",
    "d=20.5\n",
    "e=2+3j\n",
    "list1=[a,b,c,d,e]\n",
    "print(list1)"
   ]
  },
  {
   "cell_type": "code",
   "execution_count": 44,
   "metadata": {},
   "outputs": [
    {
     "data": {
      "text/plain": [
       "False"
      ]
     },
     "execution_count": 44,
     "metadata": {},
     "output_type": "execute_result"
    }
   ],
   "source": [
    "c=[a,b,c,[1,2,3,[True,False],5],e]\n",
    "c[3][3][1]"
   ]
  },
  {
   "cell_type": "code",
   "execution_count": 45,
   "metadata": {},
   "outputs": [
    {
     "name": "stdout",
     "output_type": "stream",
     "text": [
      "[1, 5, 7, 9]\n"
     ]
    }
   ],
   "source": [
    "l[2]=7\n",
    "print(l)"
   ]
  },
  {
   "cell_type": "code",
   "execution_count": 47,
   "metadata": {},
   "outputs": [
    {
     "name": "stdout",
     "output_type": "stream",
     "text": [
      "<generator object <genexpr> at 0x00000170BB95A8B8>\n"
     ]
    }
   ],
   "source": [
    "[i for i in range (2,10) if  ]"
   ]
  },
  {
   "cell_type": "code",
   "execution_count": 48,
   "metadata": {},
   "outputs": [
    {
     "data": {
      "text/plain": [
       "{'sabya': 91, 'nirmalya': 67, 'prasenji': 71, 'soumya': 113, 'yasar': 125}"
      ]
     },
     "execution_count": 48,
     "metadata": {},
     "output_type": "execute_result"
    }
   ],
   "source": [
    "dict={'sabya':91,'nirmalya':67,'prasenji':71,'soumya':113,'yasar':125,'sagar':93}\n",
    "del dict['sagar']\n",
    "dict"
   ]
  },
  {
   "cell_type": "code",
   "execution_count": 49,
   "metadata": {},
   "outputs": [
    {
     "data": {
      "text/plain": [
       "91"
      ]
     },
     "execution_count": 49,
     "metadata": {},
     "output_type": "execute_result"
    }
   ],
   "source": [
    "dict['sabya']"
   ]
  },
  {
   "cell_type": "code",
   "execution_count": 50,
   "metadata": {},
   "outputs": [
    {
     "data": {
      "text/plain": [
       "dict_keys(['sabya', 'nirmalya', 'prasenji', 'soumya', 'yasar'])"
      ]
     },
     "execution_count": 50,
     "metadata": {},
     "output_type": "execute_result"
    }
   ],
   "source": [
    "dict.keys()"
   ]
  },
  {
   "cell_type": "code",
   "execution_count": 51,
   "metadata": {},
   "outputs": [
    {
     "data": {
      "text/plain": [
       "dict_values([91, 67, 71, 113, 125])"
      ]
     },
     "execution_count": 51,
     "metadata": {},
     "output_type": "execute_result"
    }
   ],
   "source": [
    "dict.values()"
   ]
  },
  {
   "cell_type": "code",
   "execution_count": 4,
   "metadata": {},
   "outputs": [
    {
     "name": "stdout",
     "output_type": "stream",
     "text": [
      "{'E', 'K', 'O', '&', 'A', 'C'}\n",
      "{'E', 'K', 'O', '&', 'S', 'A', 'C', 'I'}\n",
      "{'O', 'E', 'K', 'C'}\n"
     ]
    }
   ],
   "source": [
    "x=set('CAKE&COKE')\n",
    "y=set('COOKIES')\n",
    "print(x)\n",
    "print(x|y)\n",
    "print(x&y)"
   ]
  },
  {
   "cell_type": "code",
   "execution_count": 1,
   "metadata": {},
   "outputs": [
    {
     "name": "stdout",
     "output_type": "stream",
     "text": [
      "hi\n"
     ]
    }
   ],
   "source": [
    "print(\"hi\")"
   ]
  },
  {
   "cell_type": "code",
   "execution_count": 2,
   "metadata": {},
   "outputs": [],
   "source": [
    "import numpy as np"
   ]
  },
  {
   "cell_type": "code",
   "execution_count": 10,
   "metadata": {},
   "outputs": [
    {
     "data": {
      "text/plain": [
       "1.2246467991473532e-16"
      ]
     },
     "execution_count": 10,
     "metadata": {},
     "output_type": "execute_result"
    }
   ],
   "source": [
    "\n",
    "np.sin(np.pi)"
   ]
  },
  {
   "cell_type": "code",
   "execution_count": 8,
   "metadata": {},
   "outputs": [
    {
     "name": "stdout",
     "output_type": "stream",
     "text": [
      "[[1. 1. 1.]\n",
      " [1. 1. 1.]\n",
      " [1. 1. 1.]\n",
      " [1. 1. 1.]]\n",
      "<class 'numpy.ndarray'>\n"
     ]
    }
   ],
   "source": [
    "x=np.ones(12).reshape(4,3)\n",
    "print(x)\n",
    "print(type(x))"
   ]
  },
  {
   "cell_type": "code",
   "execution_count": 5,
   "metadata": {},
   "outputs": [
    {
     "name": "stdout",
     "output_type": "stream",
     "text": [
      "[[0. 0. 0.]\n",
      " [0. 0. 0.]\n",
      " [0. 0. 0.]\n",
      " [0. 0. 0.]]\n",
      "<class 'numpy.ndarray'>\n"
     ]
    }
   ],
   "source": [
    "x=np.zeros(12).reshape(4,3)\n",
    "print(x)\n",
    "print(type(x))"
   ]
  },
  {
   "cell_type": "code",
   "execution_count": 11,
   "metadata": {},
   "outputs": [
    {
     "name": "stdout",
     "output_type": "stream",
     "text": [
      "[[1. 0. 0. 0.]\n",
      " [0. 1. 0. 0.]\n",
      " [0. 0. 1. 0.]\n",
      " [0. 0. 0. 1.]]\n",
      "[0. 0. 0. 1.]\n",
      "1.0\n"
     ]
    }
   ],
   "source": [
    "x=np.identity(4)\n",
    "print(x)\n",
    "print(x[ : , 3 ])\n",
    "print(x[3,3])"
   ]
  },
  {
   "cell_type": "code",
   "execution_count": 13,
   "metadata": {},
   "outputs": [
    {
     "name": "stdout",
     "output_type": "stream",
     "text": [
      "[0. 1. 0. 0.]\n"
     ]
    }
   ],
   "source": [
    "print(x[ 1, : ])\n"
   ]
  },
  {
   "cell_type": "code",
   "execution_count": 15,
   "metadata": {},
   "outputs": [
    {
     "name": "stdout",
     "output_type": "stream",
     "text": [
      "[[1. 0. 0. 0.]\n",
      " [0. 1. 0. 0.]\n",
      " [0. 0. 1. 0.]\n",
      " [0. 0. 0. 1.]]\n"
     ]
    }
   ],
   "source": [
    "print(x[:,:])"
   ]
  },
  {
   "cell_type": "code",
   "execution_count": 18,
   "metadata": {},
   "outputs": [
    {
     "name": "stdout",
     "output_type": "stream",
     "text": [
      "[[0. 0.]\n",
      " [1. 0.]]\n"
     ]
    }
   ],
   "source": [
    "print(x[0:2,1:3])"
   ]
  },
  {
   "cell_type": "code",
   "execution_count": 21,
   "metadata": {},
   "outputs": [
    {
     "name": "stdout",
     "output_type": "stream",
     "text": [
      "[[1 2 3]\n",
      " [4 5 6]\n",
      " [7 8 9]]\n",
      "[1 2 3]\n",
      "3\n"
     ]
    }
   ],
   "source": [
    "k=[1,2,3,4,5,6,7,8,9]\n",
    "p=np.array(k).reshape(3,3)\n",
    "print(p)\n",
    "print(p[0])\n",
    "print(p[0,2])"
   ]
  },
  {
   "cell_type": "code",
   "execution_count": 20,
   "metadata": {},
   "outputs": [
    {
     "name": "stdout",
     "output_type": "stream",
     "text": [
      "[[1 2 3]\n",
      " [4 5 6]\n",
      " [7 8 9]]\n",
      "[[1 4 7]\n",
      " [2 5 8]\n",
      " [3 6 9]]\n"
     ]
    }
   ],
   "source": [
    "print(p)\n",
    "print(p.transpose())"
   ]
  },
  {
   "cell_type": "code",
   "execution_count": 22,
   "metadata": {},
   "outputs": [
    {
     "name": "stdout",
     "output_type": "stream",
     "text": [
      "[[3 2 1]\n",
      " [6 5 4]\n",
      " [9 8 7]]\n"
     ]
    }
   ],
   "source": [
    "print(np.fliplr(p))"
   ]
  },
  {
   "cell_type": "code",
   "execution_count": 26,
   "metadata": {},
   "outputs": [
    {
     "name": "stdout",
     "output_type": "stream",
     "text": [
      "[[7 8 9]\n",
      " [4 5 6]\n",
      " [1 2 3]]\n"
     ]
    }
   ],
   "source": [
    "print(np.flipud(p))"
   ]
  },
  {
   "cell_type": "code",
   "execution_count": 27,
   "metadata": {},
   "outputs": [
    {
     "data": {
      "text/plain": [
       "array([[0, 1, 2],\n",
       "       [3, 4, 5]])"
      ]
     },
     "execution_count": 27,
     "metadata": {},
     "output_type": "execute_result"
    }
   ],
   "source": [
    "z=np.arange(6).reshape(2,3)\n",
    "z"
   ]
  },
  {
   "cell_type": "code",
   "execution_count": 29,
   "metadata": {},
   "outputs": [
    {
     "name": "stdout",
     "output_type": "stream",
     "text": [
      "[[1 3]\n",
      " [5 7]]\n"
     ]
    },
    {
     "data": {
      "text/plain": [
       "numpy.ndarray"
      ]
     },
     "execution_count": 29,
     "metadata": {},
     "output_type": "execute_result"
    }
   ],
   "source": [
    "sa=np.arange(1,8,2).reshape(2,2)\n",
    "print(sa)\n",
    "type(sa)"
   ]
  },
  {
   "cell_type": "code",
   "execution_count": 36,
   "metadata": {},
   "outputs": [
    {
     "name": "stdout",
     "output_type": "stream",
     "text": [
      "[False False False  True False False]\n",
      "[ True  True  True False False False]\n",
      "[False False False False  True  True]\n",
      "[False False False  True  True  True]\n",
      "[ True  True  True False  True  True]\n",
      "[ True  True  True  True False False]\n"
     ]
    }
   ],
   "source": [
    "f=[1,2,3,4,5,6]\n",
    "h=[2,3,4,1,5,6]\n",
    "a=np.array(f)\n",
    "b=np.array(h)\n",
    "print(a>b)\n",
    "print(a<b)\n",
    "print(a==b)\n",
    "print(a>=b)\n",
    "print(a<=b)\n",
    "print(a!=b)"
   ]
  },
  {
   "cell_type": "code",
   "execution_count": 38,
   "metadata": {},
   "outputs": [
    {
     "name": "stdout",
     "output_type": "stream",
     "text": [
      "[2 3 4]\n",
      "[4]\n"
     ]
    }
   ],
   "source": [
    "print(b[a<b])\n",
    "print(a[a>b])"
   ]
  },
  {
   "cell_type": "code",
   "execution_count": 41,
   "metadata": {},
   "outputs": [
    {
     "data": {
      "text/plain": [
       "720"
      ]
     },
     "execution_count": 41,
     "metadata": {},
     "output_type": "execute_result"
    }
   ],
   "source": [
    "a.sum()\n",
    "b.prod()"
   ]
  },
  {
   "cell_type": "code",
   "execution_count": 43,
   "metadata": {},
   "outputs": [
    {
     "data": {
      "text/plain": [
       "array([  1,   2,   6,  24, 120, 720], dtype=int32)"
      ]
     },
     "execution_count": 43,
     "metadata": {},
     "output_type": "execute_result"
    }
   ],
   "source": [
    "a.cumsum()\n",
    "a.cumprod()"
   ]
  },
  {
   "cell_type": "code",
   "execution_count": 48,
   "metadata": {},
   "outputs": [
    {
     "data": {
      "text/plain": [
       "array([12, 15, 18])"
      ]
     },
     "execution_count": 48,
     "metadata": {},
     "output_type": "execute_result"
    }
   ],
   "source": [
    "p.sum(axis=0)"
   ]
  },
  {
   "cell_type": "code",
   "execution_count": 49,
   "metadata": {},
   "outputs": [
    {
     "data": {
      "text/plain": [
       "array([ 6, 15, 24])"
      ]
     },
     "execution_count": 49,
     "metadata": {},
     "output_type": "execute_result"
    }
   ],
   "source": [
    "p.sum(axis=1)"
   ]
  },
  {
   "cell_type": "code",
   "execution_count": 51,
   "metadata": {},
   "outputs": [
    {
     "data": {
      "text/plain": [
       "array([[1, 2, 3, 4, 5, 6],\n",
       "       [2, 3, 4, 1, 5, 6]])"
      ]
     },
     "execution_count": 51,
     "metadata": {},
     "output_type": "execute_result"
    }
   ],
   "source": [
    "ab=np.vstack((a,b))\n",
    "ab"
   ]
  },
  {
   "cell_type": "code",
   "execution_count": 53,
   "metadata": {},
   "outputs": [
    {
     "data": {
      "text/plain": [
       "array([[2, 3, 4, 5],\n",
       "       [4, 6, 7, 8]])"
      ]
     },
     "execution_count": 53,
     "metadata": {},
     "output_type": "execute_result"
    }
   ],
   "source": [
    "m=np.array([2,3,4,5])\n",
    "n=np.array([4,6,7,8])\n",
    "x1=np.vstack((m,n))\n",
    "x1"
   ]
  },
  {
   "cell_type": "code",
   "execution_count": 58,
   "metadata": {},
   "outputs": [],
   "source": [
    "x2,x3=np.vsplit(x1,2)"
   ]
  },
  {
   "cell_type": "code",
   "execution_count": 60,
   "metadata": {},
   "outputs": [
    {
     "name": "stdout",
     "output_type": "stream",
     "text": [
      "[[2 3 4 5]] [[4 6 7 8]]\n"
     ]
    }
   ],
   "source": [
    "print(x2,x3)\n"
   ]
  },
  {
   "cell_type": "code",
   "execution_count": 65,
   "metadata": {},
   "outputs": [
    {
     "data": {
      "text/plain": [
       "array([[0.63979213, 0.91250326, 0.90949824],\n",
       "       [0.10032772, 0.12863842, 0.83523142]])"
      ]
     },
     "execution_count": 65,
     "metadata": {},
     "output_type": "execute_result"
    }
   ],
   "source": [
    "dir(np)\n",
    "dir(np.random)\n",
    "np.random.random(6).reshape(2,3)"
   ]
  },
  {
   "cell_type": "code",
   "execution_count": 67,
   "metadata": {},
   "outputs": [
    {
     "data": {
      "text/plain": [
       "array([1.        , 1.41421356, 1.73205081, 2.        , 2.23606798,\n",
       "       2.44948974])"
      ]
     },
     "execution_count": 67,
     "metadata": {},
     "output_type": "execute_result"
    }
   ],
   "source": [
    "a11=np.sqrt(a)\n",
    "a11"
   ]
  },
  {
   "cell_type": "code",
   "execution_count": 69,
   "metadata": {},
   "outputs": [
    {
     "name": "stdout",
     "output_type": "stream",
     "text": [
      "[  6 120 504]\n"
     ]
    }
   ],
   "source": [
    "print(np.prod(p,axis=1))"
   ]
  },
  {
   "cell_type": "code",
   "execution_count": 70,
   "metadata": {},
   "outputs": [
    {
     "name": "stdout",
     "output_type": "stream",
     "text": [
      "[[0.93028695 0.8293977 ]\n",
      " [0.34493742 0.12674918]\n",
      " [0.16707728 0.10733244]\n",
      " [0.67974301 0.12198337]\n",
      " [0.1884228  0.13243715]\n",
      " [0.5956358  0.25571456]] [[0.62662054 0.22009203]\n",
      " [0.12703119 0.80293617]\n",
      " [0.27320835 0.11916254]\n",
      " [0.63883754 0.14908028]\n",
      " [0.14791218 0.37856059]\n",
      " [0.05566571 0.51846467]]\n"
     ]
    }
   ],
   "source": [
    "A=np.random.random(12).reshape(6,2)\n",
    "B=np.random.random(12).reshape(6,2)\n",
    "print(A,B)"
   ]
  },
  {
   "cell_type": "code",
   "execution_count": 71,
   "metadata": {},
   "outputs": [
    {
     "data": {
      "text/plain": [
       "0.39950144247467906"
      ]
     },
     "execution_count": 71,
     "metadata": {},
     "output_type": "execute_result"
    }
   ],
   "source": [
    "np.sqrt(np.sum((A-B)**2,axis=1)).mean()"
   ]
  },
  {
   "cell_type": "code",
   "execution_count": 73,
   "metadata": {},
   "outputs": [
    {
     "data": {
      "text/plain": [
       "array([[0.86543381, 0.68790055],\n",
       "       [0.11898182, 0.01606535],\n",
       "       [0.02791482, 0.01152025],\n",
       "       [0.46205055, 0.01487994],\n",
       "       [0.03550315, 0.0175396 ],\n",
       "       [0.354782  , 0.06538993]])"
      ]
     },
     "execution_count": 73,
     "metadata": {},
     "output_type": "execute_result"
    }
   ],
   "source": [
    "y1=np.square(A)\n",
    "y1"
   ]
  },
  {
   "cell_type": "code",
   "execution_count": 74,
   "metadata": {},
   "outputs": [
    {
     "data": {
      "text/plain": [
       "45.0"
      ]
     },
     "execution_count": 74,
     "metadata": {},
     "output_type": "execute_result"
    }
   ],
   "source": [
    "np.degrees(np.pi/4)"
   ]
  },
  {
   "cell_type": "code",
   "execution_count": 76,
   "metadata": {},
   "outputs": [
    {
     "data": {
      "text/plain": [
       "1.0"
      ]
     },
     "execution_count": 76,
     "metadata": {},
     "output_type": "execute_result"
    }
   ],
   "source": [
    "np.sin(np.pi/2)"
   ]
  },
  {
   "cell_type": "code",
   "execution_count": 78,
   "metadata": {},
   "outputs": [],
   "source": [
    "import matplotlib.pylab as plt"
   ]
  },
  {
   "cell_type": "code",
   "execution_count": 80,
   "metadata": {},
   "outputs": [
    {
     "data": {
      "text/plain": [
       "array([-3.14159265e+00, -3.11017673e+00, -3.07876080e+00, -3.04734487e+00,\n",
       "       -3.01592895e+00, -2.98451302e+00, -2.95309709e+00, -2.92168117e+00,\n",
       "       -2.89026524e+00, -2.85884931e+00, -2.82743339e+00, -2.79601746e+00,\n",
       "       -2.76460154e+00, -2.73318561e+00, -2.70176968e+00, -2.67035376e+00,\n",
       "       -2.63893783e+00, -2.60752190e+00, -2.57610598e+00, -2.54469005e+00,\n",
       "       -2.51327412e+00, -2.48185820e+00, -2.45044227e+00, -2.41902634e+00,\n",
       "       -2.38761042e+00, -2.35619449e+00, -2.32477856e+00, -2.29336264e+00,\n",
       "       -2.26194671e+00, -2.23053078e+00, -2.19911486e+00, -2.16769893e+00,\n",
       "       -2.13628300e+00, -2.10486708e+00, -2.07345115e+00, -2.04203522e+00,\n",
       "       -2.01061930e+00, -1.97920337e+00, -1.94778745e+00, -1.91637152e+00,\n",
       "       -1.88495559e+00, -1.85353967e+00, -1.82212374e+00, -1.79070781e+00,\n",
       "       -1.75929189e+00, -1.72787596e+00, -1.69646003e+00, -1.66504411e+00,\n",
       "       -1.63362818e+00, -1.60221225e+00, -1.57079633e+00, -1.53938040e+00,\n",
       "       -1.50796447e+00, -1.47654855e+00, -1.44513262e+00, -1.41371669e+00,\n",
       "       -1.38230077e+00, -1.35088484e+00, -1.31946891e+00, -1.28805299e+00,\n",
       "       -1.25663706e+00, -1.22522113e+00, -1.19380521e+00, -1.16238928e+00,\n",
       "       -1.13097336e+00, -1.09955743e+00, -1.06814150e+00, -1.03672558e+00,\n",
       "       -1.00530965e+00, -9.73893723e-01, -9.42477796e-01, -9.11061870e-01,\n",
       "       -8.79645943e-01, -8.48230016e-01, -8.16814090e-01, -7.85398163e-01,\n",
       "       -7.53982237e-01, -7.22566310e-01, -6.91150384e-01, -6.59734457e-01,\n",
       "       -6.28318531e-01, -5.96902604e-01, -5.65486678e-01, -5.34070751e-01,\n",
       "       -5.02654825e-01, -4.71238898e-01, -4.39822972e-01, -4.08407045e-01,\n",
       "       -3.76991118e-01, -3.45575192e-01, -3.14159265e-01, -2.82743339e-01,\n",
       "       -2.51327412e-01, -2.19911486e-01, -1.88495559e-01, -1.57079633e-01,\n",
       "       -1.25663706e-01, -9.42477796e-02, -6.28318531e-02, -3.14159265e-02,\n",
       "        4.44089210e-16,  3.14159265e-02,  6.28318531e-02,  9.42477796e-02,\n",
       "        1.25663706e-01,  1.57079633e-01,  1.88495559e-01,  2.19911486e-01,\n",
       "        2.51327412e-01,  2.82743339e-01,  3.14159265e-01,  3.45575192e-01,\n",
       "        3.76991118e-01,  4.08407045e-01,  4.39822972e-01,  4.71238898e-01,\n",
       "        5.02654825e-01,  5.34070751e-01,  5.65486678e-01,  5.96902604e-01,\n",
       "        6.28318531e-01,  6.59734457e-01,  6.91150384e-01,  7.22566310e-01,\n",
       "        7.53982237e-01,  7.85398163e-01,  8.16814090e-01,  8.48230016e-01,\n",
       "        8.79645943e-01,  9.11061870e-01,  9.42477796e-01,  9.73893723e-01,\n",
       "        1.00530965e+00,  1.03672558e+00,  1.06814150e+00,  1.09955743e+00,\n",
       "        1.13097336e+00,  1.16238928e+00,  1.19380521e+00,  1.22522113e+00,\n",
       "        1.25663706e+00,  1.28805299e+00,  1.31946891e+00,  1.35088484e+00,\n",
       "        1.38230077e+00,  1.41371669e+00,  1.44513262e+00,  1.47654855e+00,\n",
       "        1.50796447e+00,  1.53938040e+00,  1.57079633e+00,  1.60221225e+00,\n",
       "        1.63362818e+00,  1.66504411e+00,  1.69646003e+00,  1.72787596e+00,\n",
       "        1.75929189e+00,  1.79070781e+00,  1.82212374e+00,  1.85353967e+00,\n",
       "        1.88495559e+00,  1.91637152e+00,  1.94778745e+00,  1.97920337e+00,\n",
       "        2.01061930e+00,  2.04203522e+00,  2.07345115e+00,  2.10486708e+00,\n",
       "        2.13628300e+00,  2.16769893e+00,  2.19911486e+00,  2.23053078e+00,\n",
       "        2.26194671e+00,  2.29336264e+00,  2.32477856e+00,  2.35619449e+00,\n",
       "        2.38761042e+00,  2.41902634e+00,  2.45044227e+00,  2.48185820e+00,\n",
       "        2.51327412e+00,  2.54469005e+00,  2.57610598e+00,  2.60752190e+00,\n",
       "        2.63893783e+00,  2.67035376e+00,  2.70176968e+00,  2.73318561e+00,\n",
       "        2.76460154e+00,  2.79601746e+00,  2.82743339e+00,  2.85884931e+00,\n",
       "        2.89026524e+00,  2.92168117e+00,  2.95309709e+00,  2.98451302e+00,\n",
       "        3.01592895e+00,  3.04734487e+00,  3.07876080e+00,  3.11017673e+00,\n",
       "        3.14159265e+00])"
      ]
     },
     "execution_count": 80,
     "metadata": {},
     "output_type": "execute_result"
    }
   ],
   "source": [
    "x=np.linspace(-np.pi,np.pi,201)\n",
    "x"
   ]
  },
  {
   "cell_type": "code",
   "execution_count": 83,
   "metadata": {},
   "outputs": [
    {
     "data": {
      "text/plain": [
       "[<matplotlib.lines.Line2D at 0x1ae27ba6e48>]"
      ]
     },
     "execution_count": 83,
     "metadata": {},
     "output_type": "execute_result"
    },
    {
     "data": {
      "image/png": "[encoded data removed]",
      "text/plain": [
       "<Figure size 432x288 with 1 Axes>"
      ]
     },
     "metadata": {
      "needs_background": "light"
     },
     "output_type": "display_data"
    }
   ],
   "source": [
    "plt.plot(x,np.sin(x))"
   ]
  },
  {
   "cell_type": "code",
   "execution_count": 84,
   "metadata": {},
   "outputs": [
    {
     "data": {
      "text/plain": [
       "[<matplotlib.lines.Line2D at 0x1ae24b06358>]"
      ]
     },
     "execution_count": 84,
     "metadata": {},
     "output_type": "execute_result"
    },
    {
     "data": {
      "image/png": "[encoded data removed]",
      "text/plain": [
       "<Figure size 432x288 with 1 Axes>"
      ]
     },
     "metadata": {
      "needs_background": "light"
     },
     "output_type": "display_data"
    }
   ],
   "source": [
    "plt.plot(x,np.cos(x))"
   ]
  },
  {
   "cell_type": "code",
   "execution_count": 86,
   "metadata": {},
   "outputs": [
    {
     "data": {
      "image/png": "[encoded data removed]",
      "text/plain": [
       "<Figure size 432x288 with 1 Axes>"
      ]
     },
     "metadata": {
      "needs_background": "light"
     },
     "output_type": "display_data"
    }
   ],
   "source": [
    "plt.plot(x,np.sin(x))\n",
    "plt.xlabel('Angle [rad]')\n",
    "plt.ylabel('Sin(x)')\n",
    "plt.axis('tight')\n",
    "plt.title('The Sin curve -pi to +pi')\n",
    "plt.show()"
   ]
  },
  {
   "cell_type": "code",
   "execution_count": null,
   "metadata": {},
   "outputs": [],
   "source": [
    "np.arange(0,)"
   ]
  }
 ],
 "metadata": {
  "kernelspec": {
   "display_name": "Python 3",
   "language": "python",
   "name": "python3"
  },
  "language_info": {
   "codemirror_mode": {
    "name": "ipython",
    "version": 3
   },
   "file_extension": ".py",
   "mimetype": "text/x-python",
   "name": "python",
   "nbconvert_exporter": "python",
   "pygments_lexer": "ipython3",
   "version": "3.7.1"
  }
 },
 "nbformat": 4,
 "nbformat_minor": 2
}
