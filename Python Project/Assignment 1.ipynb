{
 "cells": [
  {
   "cell_type": "markdown",
   "metadata": {},
   "source": [
    "## import numpy package"
   ]
  },
  {
   "cell_type": "code",
   "execution_count": 1,
   "metadata": {},
   "outputs": [],
   "source": [
    "import numpy as np"
   ]
  },
  {
   "cell_type": "markdown",
   "metadata": {},
   "source": [
    "## Load download file data"
   ]
  },
  {
   "cell_type": "code",
   "execution_count": 4,
   "metadata": {},
   "outputs": [
    {
     "data": {
      "text/plain": [
       "['S', 'T', 'levels', 'lon', 'date', 'P', 'lat']"
      ]
     },
     "execution_count": 4,
     "metadata": {},
     "output_type": "execute_result"
    }
   ],
   "source": [
    "data = np.load(\"data.npz\")\n",
    "data.files"
   ]
  },
  {
   "cell_type": "markdown",
   "metadata": {},
   "source": [
    "## Extract T,S,P data"
   ]
  },
  {
   "cell_type": "code",
   "execution_count": 5,
   "metadata": {},
   "outputs": [
    {
     "data": {
      "text/plain": [
       "array([[18.97400093, 18.43700027, 19.09900093, ..., 19.11300087,\n",
       "        21.82299995, 20.13100052],\n",
       "       [18.74099922, 18.39999962, 19.08200073, ..., 18.47200012,\n",
       "        19.45999908, 20.125     ],\n",
       "       [18.37000084, 18.37400055, 19.06500053, ..., 18.22999954,\n",
       "        19.26199913, 20.07699966],\n",
       "       ...,\n",
       "       [ 3.79299998,  3.81399989,  3.80200005, ...,  3.80699992,\n",
       "         3.81100011,  3.8599999 ],\n",
       "       [ 3.76399994,  3.77800012,  3.75699997, ...,  3.75399995,\n",
       "         3.74600005,  3.80599999],\n",
       "       [ 3.74399996,  3.74600005,  3.7249999 , ...,         nan,\n",
       "         3.71399999,         nan]])"
      ]
     },
     "execution_count": 5,
     "metadata": {},
     "output_type": "execute_result"
    }
   ],
   "source": [
    "data['T']"
   ]
  },
  {
   "cell_type": "code",
   "execution_count": 6,
   "metadata": {},
   "outputs": [
    {
     "data": {
      "text/plain": [
       "array([[35.6389389 , 35.51495743, 35.57297134, ..., 35.82093811,\n",
       "        35.77793884, 35.66891098],\n",
       "       [35.63393784, 35.5219574 , 35.57397079, ..., 35.81093216,\n",
       "        35.58389664, 35.66791153],\n",
       "       [35.6819458 , 35.52595901, 35.57297134, ..., 35.79592896,\n",
       "        35.66290665, 35.66591263],\n",
       "       ...,\n",
       "       [34.91585922, 34.92390442, 34.92390442, ..., 34.93481064,\n",
       "        34.94081116, 34.94680786],\n",
       "       [34.91585922, 34.92390442, 34.92190552, ..., 34.93280792,\n",
       "        34.93680954, 34.94380951],\n",
       "       [34.91785812, 34.92390442, 34.92390442, ...,         nan,\n",
       "        34.93680954,         nan]])"
      ]
     },
     "execution_count": 6,
     "metadata": {},
     "output_type": "execute_result"
    }
   ],
   "source": [
    "data['S']"
   ]
  },
  {
   "cell_type": "code",
   "execution_count": 7,
   "metadata": {},
   "outputs": [
    {
     "data": {
      "text/plain": [
       "array([[   6.80000019,    6.0999999 ,    6.5       , ...,    7.0999999 ,\n",
       "           7.20000029,    6.5       ],\n",
       "       [  10.69999981,   10.59999943,   10.39999962, ...,   10.79999924,\n",
       "          11.09999943,   10.39999962],\n",
       "       [  15.69999981,   14.09999943,   14.89999962, ...,   15.89999962,\n",
       "          15.59999943,   15.89999962],\n",
       "       ...,\n",
       "       [1900.60009766, 1900.        , 1900.19995117, ..., 1899.70007324,\n",
       "        1900.40002441, 1899.80004883],\n",
       "       [1949.90002441, 1950.        , 1949.89990234, ..., 1950.59997559,\n",
       "        1950.20007324, 1949.70007324],\n",
       "       [1999.30004883, 1998.        , 1998.5       , ...,           nan,\n",
       "        2000.40002441,           nan]])"
      ]
     },
     "execution_count": 7,
     "metadata": {},
     "output_type": "execute_result"
    }
   ],
   "source": [
    "data['P']"
   ]
  },
  {
   "cell_type": "markdown",
   "metadata": {},
   "source": [
    "## Masking invalid data"
   ]
  },
  {
   "cell_type": "code",
   "execution_count": 14,
   "metadata": {},
   "outputs": [
    {
     "data": {
      "text/plain": [
       "masked_array(\n",
       "  data=[[6.800000190734863, 6.099999904632568, 6.5, ...,\n",
       "         7.099999904632568, 7.200000286102295, 6.5],\n",
       "        [10.699999809265137, 10.59999942779541, 10.399999618530273, ...,\n",
       "         10.799999237060547, 11.09999942779541, 10.399999618530273],\n",
       "        [15.699999809265137, 14.09999942779541, 14.899999618530273, ...,\n",
       "         15.899999618530273, 15.59999942779541, 15.899999618530273],\n",
       "        ...,\n",
       "        [1900.60009765625, 1900.0, 1900.199951171875, ...,\n",
       "         1899.7000732421875, 1900.4000244140625, 1899.800048828125],\n",
       "        [1949.9000244140625, 1950.0, 1949.89990234375, ...,\n",
       "         1950.5999755859375, 1950.2000732421875, 1949.7000732421875],\n",
       "        [1999.300048828125, 1998.0, 1998.5, ..., --, 2000.4000244140625,\n",
       "         --]],\n",
       "  mask=[[False, False, False, ..., False, False, False],\n",
       "        [False, False, False, ..., False, False, False],\n",
       "        [False, False, False, ..., False, False, False],\n",
       "        ...,\n",
       "        [False, False, False, ..., False, False, False],\n",
       "        [False, False, False, ..., False, False, False],\n",
       "        [False, False, False, ...,  True, False,  True]],\n",
       "  fill_value=1e+20)"
      ]
     },
     "execution_count": 14,
     "metadata": {},
     "output_type": "execute_result"
    }
   ],
   "source": [
    "import numpy.ma as ma\n",
    "ma.masked_invalid(data['P'])"
   ]
  },
  {
   "cell_type": "code",
   "execution_count": 15,
   "metadata": {},
   "outputs": [
    {
     "data": {
      "text/plain": [
       "masked_array(\n",
       "  data=[[35.638938903808594, 35.514957427978516, 35.57297134399414, ...,\n",
       "         35.82093811035156, 35.77793884277344, 35.66891098022461],\n",
       "        [35.63393783569336, 35.52195739746094, 35.573970794677734, ...,\n",
       "         35.81093215942383, 35.58389663696289, 35.667911529541016],\n",
       "        [35.68194580078125, 35.52595901489258, 35.57297134399414, ...,\n",
       "         35.795928955078125, 35.662906646728516, 35.66591262817383],\n",
       "        ...,\n",
       "        [34.91585922241211, 34.92390441894531, 34.92390441894531, ...,\n",
       "         34.934810638427734, 34.94081115722656, 34.946807861328125],\n",
       "        [34.91585922241211, 34.92390441894531, 34.921905517578125, ...,\n",
       "         34.93280792236328, 34.93680953979492, 34.943809509277344],\n",
       "        [34.9178581237793, 34.92390441894531, 34.92390441894531, ..., --,\n",
       "         34.93680953979492, --]],\n",
       "  mask=[[False, False, False, ..., False, False, False],\n",
       "        [False, False, False, ..., False, False, False],\n",
       "        [False, False, False, ..., False, False, False],\n",
       "        ...,\n",
       "        [False, False, False, ..., False, False, False],\n",
       "        [False, False, False, ..., False, False, False],\n",
       "        [False, False, False, ...,  True, False,  True]],\n",
       "  fill_value=1e+20)"
      ]
     },
     "execution_count": 15,
     "metadata": {},
     "output_type": "execute_result"
    }
   ],
   "source": [
    "ma.masked_invalid(data['S'])"
   ]
  },
  {
   "cell_type": "code",
   "execution_count": 16,
   "metadata": {},
   "outputs": [
    {
     "data": {
      "text/plain": [
       "masked_array(\n",
       "  data=[[18.974000930786133, 18.437000274658203, 19.099000930786133, ...,\n",
       "         19.113000869750977, 21.822999954223633, 20.131000518798828],\n",
       "        [18.740999221801758, 18.399999618530273, 19.082000732421875, ...,\n",
       "         18.472000122070312, 19.459999084472656, 20.125],\n",
       "        [18.3700008392334, 18.374000549316406, 19.065000534057617, ...,\n",
       "         18.229999542236328, 19.261999130249023, 20.07699966430664],\n",
       "        ...,\n",
       "        [3.7929999828338623, 3.813999891281128, 3.802000045776367, ...,\n",
       "         3.806999921798706, 3.811000108718872, 3.859999895095825],\n",
       "        [3.7639999389648438, 3.7780001163482666, 3.756999969482422, ...,\n",
       "         3.753999948501587, 3.746000051498413, 3.805999994277954],\n",
       "        [3.74399995803833, 3.746000051498413, 3.7249999046325684, ...,\n",
       "         --, 3.7139999866485596, --]],\n",
       "  mask=[[False, False, False, ..., False, False, False],\n",
       "        [False, False, False, ..., False, False, False],\n",
       "        [False, False, False, ..., False, False, False],\n",
       "        ...,\n",
       "        [False, False, False, ..., False, False, False],\n",
       "        [False, False, False, ..., False, False, False],\n",
       "        [False, False, False, ...,  True, False,  True]],\n",
       "  fill_value=1e+20)"
      ]
     },
     "execution_count": 16,
     "metadata": {},
     "output_type": "execute_result"
    }
   ],
   "source": [
    "ma.masked_invalid(data['T'])"
   ]
  },
  {
   "cell_type": "markdown",
   "metadata": {},
   "source": [
    "## Extract the date, lat, lon, and level arrays."
   ]
  },
  {
   "cell_type": "code",
   "execution_count": 20,
   "metadata": {},
   "outputs": [
    {
     "data": {
      "text/plain": [
       "array(['2012-07-13T22:33:06.019200000', '2012-07-23T22:54:59.990400000',\n",
       "       '2012-08-02T22:55:52.003200000', '2012-08-12T23:08:59.971200000',\n",
       "       '2012-08-22T23:29:01.968000000', '2012-09-01T23:17:38.976000000',\n",
       "       '2012-09-12T02:59:18.960000000', '2012-09-21T23:18:37.036800000',\n",
       "       '2012-10-02T03:00:17.971200000', '2012-10-11T23:13:27.984000000',\n",
       "       '2012-10-22T02:50:32.006400000', '2012-10-31T23:36:39.974400000',\n",
       "       '2012-11-11T02:40:46.041600000', '2012-11-20T23:08:29.990400000',\n",
       "       '2012-12-01T02:47:51.993600000', '2012-12-10T23:23:16.972800000',\n",
       "       '2012-12-21T02:58:48.979200000', '2012-12-30T23:07:23.030400000',\n",
       "       '2013-01-10T02:56:43.008000000', '2013-01-19T23:24:26.956800000',\n",
       "       '2013-01-30T02:43:53.011200000', '2013-02-08T23:15:27.043200000',\n",
       "       '2013-02-19T01:12:50.976000000', '2013-02-28T23:07:13.008000000',\n",
       "       '2013-03-11T02:43:30.979200000', '2013-03-20T23:17:22.992000000',\n",
       "       '2013-03-31T01:50:38.025600000', '2013-04-09T23:19:07.968000000',\n",
       "       '2013-04-20T02:53:29.990400000', '2013-04-29T23:28:33.024000000',\n",
       "       '2013-05-10T02:50:18.009600000', '2013-05-19T23:21:05.990400000',\n",
       "       '2013-05-30T02:50:30.969600000', '2013-06-08T23:32:49.027200000',\n",
       "       '2013-06-19T03:42:51.004800000', '2013-06-28T23:32:16.022400000',\n",
       "       '2013-07-09T03:28:30.979199999', '2013-07-18T23:33:57.974400000',\n",
       "       '2013-07-29T03:15:42.019200000', '2013-08-07T23:25:02.035200000',\n",
       "       '2013-08-18T01:47:44.966400000', '2013-08-28T03:02:59.020800000',\n",
       "       '2013-09-07T03:03:51.984000000', '2013-09-16T23:32:07.987200000',\n",
       "       '2013-09-27T04:08:27.974400000', '2013-10-06T23:25:39.964800000',\n",
       "       '2013-10-17T02:55:50.995200000', '2013-10-27T03:45:47.001600000',\n",
       "       '2013-11-06T01:14:52.022400000', '2013-11-16T03:29:54.009600000',\n",
       "       '2013-11-26T03:03:56.995200000', '2013-12-05T23:33:59.011200000',\n",
       "       '2013-12-16T02:58:01.977600000', '2013-12-25T23:22:43.017600000',\n",
       "       '2014-01-05T02:52:06.009600000', '2014-01-14T23:41:18.009600000',\n",
       "       '2014-01-25T03:00:43.977600000', '2014-02-03T23:29:13.977600000',\n",
       "       '2014-02-14T02:50:11.961600000', '2014-02-23T23:03:21.974400000',\n",
       "       '2014-03-06T02:58:03.964800000', '2014-03-15T23:10:28.012800000',\n",
       "       '2014-03-26T02:51:22.032000000', '2014-04-04T23:25:58.972800000',\n",
       "       '2014-04-15T03:00:45.964800000', '2014-04-24T23:24:40.003200000',\n",
       "       '2014-05-05T02:56:22.012800000', '2014-05-15T00:10:06.009600000',\n",
       "       '2014-05-25T03:02:43.036800000', '2014-06-03T23:34:53.961600000',\n",
       "       '2014-06-14T03:01:23.980800000', '2014-06-23T23:24:31.968000000',\n",
       "       '2014-07-04T03:08:30.019200000', '2014-07-13T23:47:43.008000000',\n",
       "       '2014-07-24T03:02:33.014400000'], dtype='datetime64[ns]')"
      ]
     },
     "execution_count": 20,
     "metadata": {},
     "output_type": "execute_result"
    }
   ],
   "source": [
    "data['date']"
   ]
  },
  {
   "cell_type": "code",
   "execution_count": 21,
   "metadata": {},
   "outputs": [
    {
     "data": {
      "text/plain": [
       "array([47.187, 46.716, 46.45 , 46.23 , 45.459, 44.833, 44.452, 44.839,\n",
       "       44.956, 44.676, 44.13 , 43.644, 43.067, 42.662, 42.513, 42.454,\n",
       "       42.396, 42.256, 42.089, 41.944, 41.712, 41.571, 41.596, 41.581,\n",
       "       41.351, 41.032, 40.912, 40.792, 40.495, 40.383, 40.478, 40.672,\n",
       "       41.032, 40.864, 40.651, 40.425, 40.228, 40.197, 40.483, 40.311,\n",
       "       40.457, 40.463, 40.164, 40.047, 39.963, 40.122, 40.57 , 40.476,\n",
       "       40.527, 40.589, 40.749, 40.993, 41.162, 41.237, 41.448, 41.65 ,\n",
       "       42.053, 42.311, 42.096, 41.683, 41.661, 41.676, 42.018, 42.395,\n",
       "       42.532, 42.558, 42.504, 42.63 , 42.934, 42.952, 42.777, 42.722,\n",
       "       42.601, 42.457, 42.379])"
      ]
     },
     "execution_count": 21,
     "metadata": {},
     "output_type": "execute_result"
    }
   ],
   "source": [
    "data['lat']"
   ]
  },
  {
   "cell_type": "code",
   "execution_count": 22,
   "metadata": {},
   "outputs": [
    {
     "data": {
      "text/plain": [
       "array([-39.13 , -37.282, -36.9  , -36.89 , -37.053, -36.658, -35.963,\n",
       "       -35.184, -34.462, -33.784, -32.972, -32.546, -32.428, -32.292,\n",
       "       -32.169, -31.998, -31.824, -31.624, -31.433, -31.312, -31.107,\n",
       "       -31.147, -31.044, -31.14 , -31.417, -31.882, -32.145, -32.487,\n",
       "       -32.537, -32.334, -32.042, -31.892, -31.861, -31.991, -31.883,\n",
       "       -31.89 , -31.941, -31.889, -31.724, -31.412, -31.786, -31.561,\n",
       "       -31.732, -31.553, -31.862, -32.389, -32.318, -32.19 , -32.224,\n",
       "       -32.368, -32.306, -32.305, -32.65 , -33.093, -33.263, -33.199,\n",
       "       -33.27 , -33.237, -33.221, -33.011, -32.844, -32.981, -32.784,\n",
       "       -32.607, -32.87 , -33.196, -33.524, -33.956, -33.944, -33.71 ,\n",
       "       -33.621, -33.552, -33.828, -34.11 , -34.38 ])"
      ]
     },
     "execution_count": 22,
     "metadata": {},
     "output_type": "execute_result"
    }
   ],
   "source": [
    "data['lon']"
   ]
  },
  {
   "cell_type": "code",
   "execution_count": 26,
   "metadata": {},
   "outputs": [
    {
     "data": {
      "text/plain": [
       "array([ 0,  1,  2,  3,  4,  5,  6,  7,  8,  9, 10, 11, 12, 13, 14, 15, 16,\n",
       "       17, 18, 19, 20, 21, 22, 23, 24, 25, 26, 27, 28, 29, 30, 31, 32, 33,\n",
       "       34, 35, 36, 37, 38, 39, 40, 41, 42, 43, 44, 45, 46, 47, 48, 49, 50,\n",
       "       51, 52, 53, 54, 55, 56, 57, 58, 59, 60, 61, 62, 63, 64, 65, 66, 67,\n",
       "       68, 69, 70, 71, 72, 73, 74, 75, 76, 77], dtype=int64)"
      ]
     },
     "execution_count": 26,
     "metadata": {},
     "output_type": "execute_result"
    }
   ],
   "source": [
    "data['levels']"
   ]
  },
  {
   "cell_type": "markdown",
   "metadata": {},
   "source": [
    "## T, S and P compared "
   ]
  },
  {
   "cell_type": "code",
   "execution_count": 30,
   "metadata": {},
   "outputs": [
    {
     "data": {
      "text/plain": [
       "False"
      ]
     },
     "execution_count": 30,
     "metadata": {},
     "output_type": "execute_result"
    }
   ],
   "source": [
    "np.array_equal(data['T'],data['P'])"
   ]
  },
  {
   "cell_type": "code",
   "execution_count": 31,
   "metadata": {},
   "outputs": [
    {
     "data": {
      "text/plain": [
       "False"
      ]
     },
     "execution_count": 31,
     "metadata": {},
     "output_type": "execute_result"
    }
   ],
   "source": [
    "np.array_equal(data['S'],data['P'])"
   ]
  },
  {
   "cell_type": "markdown",
   "metadata": {},
   "source": [
    "## Line up"
   ]
  },
  {
   "cell_type": "code",
   "execution_count": null,
   "metadata": {},
   "outputs": [],
   "source": []
  },
  {
   "cell_type": "markdown",
   "metadata": {},
   "source": [
    "## import matplotlib"
   ]
  },
  {
   "cell_type": "code",
   "execution_count": 53,
   "metadata": {},
   "outputs": [],
   "source": [
    "import matplotlib.pyplot as plt"
   ]
  },
  {
   "cell_type": "code",
   "execution_count": 47,
   "metadata": {},
   "outputs": [],
   "source": [
    "arr=np.array([data['T'],data['S'],data['P']])"
   ]
  },
  {
   "cell_type": "code",
   "execution_count": 51,
   "metadata": {},
   "outputs": [
    {
     "data": {
      "text/plain": [
       "(3, 78, 75)"
      ]
     },
     "execution_count": 51,
     "metadata": {},
     "output_type": "execute_result"
    }
   ],
   "source": [
    "arr.shape"
   ]
  },
  {
   "cell_type": "code",
   "execution_count": 108,
   "metadata": {},
   "outputs": [
    {
     "data": {
      "image/png": "[encoded data removed]",
      "text/plain": [
       "<Figure size 432x288 with 1 Axes>"
      ]
     },
     "metadata": {
      "needs_background": "light"
     },
     "output_type": "display_data"
    }
   ],
   "source": [
    "# line 1 points \n",
    "x1 = ma.masked_invalid(data['T'])\n",
    "y1 = data['levels']\n",
    "# plotting the line 1 points  \n",
    "plt.plot(x1, y1, label = \"line 1\") \n",
    "\n",
    "  \n",
    "# naming the x axis \n",
    "plt.xlabel('x - axis') \n",
    "# naming the y axis \n",
    "plt.ylabel('y - axis') \n",
    "# giving a title to my graph \n",
    "plt.title('Two lines on same graph!') \n",
    "  \n",
    "# show a legend on the plot \n",
    "plt.legend() \n",
    "  \n",
    "# function to show the plot \n",
    "plt.show()"
   ]
  },
  {
   "cell_type": "markdown",
   "metadata": {},
   "source": [
    "## T, S and P mean value"
   ]
  },
  {
   "cell_type": "code",
   "execution_count": 85,
   "metadata": {},
   "outputs": [
    {
     "data": {
      "text/plain": [
       "11.104955983298781"
      ]
     },
     "execution_count": 85,
     "metadata": {},
     "output_type": "execute_result"
    }
   ],
   "source": [
    "ma.masked_invalid(data['T']).mean()"
   ]
  },
  {
   "cell_type": "code",
   "execution_count": 86,
   "metadata": {},
   "outputs": [
    {
     "data": {
      "text/plain": [
       "35.53375800851532"
      ]
     },
     "execution_count": 86,
     "metadata": {},
     "output_type": "execute_result"
    }
   ],
   "source": [
    "ma.masked_invalid(data['S']).mean()"
   ]
  },
  {
   "cell_type": "code",
   "execution_count": 82,
   "metadata": {},
   "outputs": [
    {
     "data": {
      "text/plain": [
       "617.7636946613931"
      ]
     },
     "execution_count": 82,
     "metadata": {},
     "output_type": "execute_result"
    }
   ],
   "source": [
    "ma.masked_invalid(data['P']).mean()"
   ]
  },
  {
   "cell_type": "markdown",
   "metadata": {},
   "source": [
    "## T, S and P standared division"
   ]
  },
  {
   "cell_type": "code",
   "execution_count": 87,
   "metadata": {},
   "outputs": [
    {
     "data": {
      "text/plain": [
       "4.660526903885564"
      ]
     },
     "execution_count": 87,
     "metadata": {},
     "output_type": "execute_result"
    }
   ],
   "source": [
    "ma.masked_invalid(data['T']).std()"
   ]
  },
  {
   "cell_type": "code",
   "execution_count": 88,
   "metadata": {},
   "outputs": [
    {
     "data": {
      "text/plain": [
       "0.39617465005493235"
      ]
     },
     "execution_count": 88,
     "metadata": {},
     "output_type": "execute_result"
    }
   ],
   "source": [
    "ma.masked_invalid(data['S']).std()"
   ]
  },
  {
   "cell_type": "code",
   "execution_count": 89,
   "metadata": {},
   "outputs": [
    {
     "data": {
      "text/plain": [
       "586.4118096127003"
      ]
     },
     "execution_count": 89,
     "metadata": {},
     "output_type": "execute_result"
    }
   ],
   "source": [
    "ma.masked_invalid(data['P']).std()"
   ]
  },
  {
   "cell_type": "code",
   "execution_count": null,
   "metadata": {},
   "outputs": [],
   "source": []
  },
  {
   "cell_type": "code",
   "execution_count": null,
   "metadata": {},
   "outputs": [],
   "source": []
  }
 ],
 "metadata": {
  "kernelspec": {
   "display_name": "Python 3",
   "language": "python",
   "name": "python3"
  },
  "language_info": {
   "codemirror_mode": {
    "name": "ipython",
    "version": 3
   },
   "file_extension": ".py",
   "mimetype": "text/x-python",
   "name": "python",
   "nbconvert_exporter": "python",
   "pygments_lexer": "ipython3",
   "version": "3.7.3"
  }
 },
 "nbformat": 4,
 "nbformat_minor": 2
}
